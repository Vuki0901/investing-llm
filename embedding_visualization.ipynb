{
 "cells": [
  {
   "cell_type": "code",
   "execution_count": 2,
   "id": "2e158f50",
   "metadata": {},
   "outputs": [],
   "source": [
    "from langchain.embeddings import HuggingFaceEmbeddings\n",
    "from langchain.vectorstores import Chroma\n",
    "\n",
    "embeddings_func = HuggingFaceEmbeddings(model_name='sentence-transformers/all-MiniLM-L6-v2')\n",
    "db = Chroma(persist_directory=\"./chroma_db\", embedding_function=embeddings_func)\n",
    "\n",
    "all_docs = db.get()['documents']\n",
    "all_texts = [chunk for chunk in all_docs]\n",
    "\n",
    "# Generiraj embeddinge direktno za te tekstove\n",
    "all_embeddings = embeddings_func.embed_documents(all_texts)\n"
   ]
  },
  {
   "cell_type": "code",
   "execution_count": 2,
   "id": "4482f26a",
   "metadata": {},
   "outputs": [],
   "source": [
    "from sklearn.manifold import TSNE\n",
    "import numpy as np\n",
    "\n",
    "if all_embeddings is None:\n",
    "\traise ValueError(\"all_embeddings is None. Please ensure embeddings are generated and available.\")\n",
    "\n",
    "embeddings_array = np.array(all_embeddings)\n",
    "if embeddings_array.ndim != 2 or embeddings_array.shape[0] == 0:\n",
    "\traise ValueError(f\"Invalid embeddings_array shape: {embeddings_array.shape}\")\n",
    "\n",
    "tsne = TSNE(n_components=2, random_state=42)\n",
    "embeddings_2d = tsne.fit_transform(embeddings_array)"
   ]
  },
  {
   "cell_type": "code",
   "execution_count": 6,
   "id": "f639cb4e",
   "metadata": {},
   "outputs": [
    {
     "data": {
      "application/vnd.plotly.v1+json": {
       "config": {
        "plotlyServerURL": "https://plot.ly"
       },
       "data": [
        {
         "customdata": [
          [
           "# Osnovni pojmovi ulaganja"
          ],
          [
           "# Razlika između štednje i ulaganja"
          ],
          [
           "# Vrste investicija"
          ],
          [
           "## Dionice  "
          ],
          [
           "## ETF-ovi (Exchange Traded Funds)  "
          ],
          [
           "## Nekretnine  "
          ],
          [
           "## Kriptovalute  "
          ],
          [
           "# Diversifikacija"
          ],
          [
           "# Investicijska strategija"
          ],
          [
           "# Mirovinski fondovi u Hrvatskoj"
          ],
          [
           "# Početnički savjeti"
          ],
          [
           "# Rizici ulaganja"
          ],
          [
           "# Psihologija ulaganja"
          ],
          [
           "# Zaključak"
          ],
          [
           "# Uvod: U što ulažu bogati, a siromašni i srednja klasa ne?"
          ],
          [
           "# Pravilo 90/10"
          ],
          [
           "# Razmišljanje bogatog investitora"
          ],
          [
           "# Kontrole investitora"
          ],
          [
           "# Mentalna priprema za investiranje"
          ],
          [
           "Kiyosaki razlikuje nekoliko razina investitora:"
          ],
          [
           "- **Vrhunski investitor** – stvara investicije u koje drugi ulažu."
          ],
          [
           "# Biznis i investiranje"
          ],
          [
           "# Rizici i prilike"
          ],
          [
           "# Psihologija i emocije"
          ],
          [
           "---"
          ],
          [
           "# Analiza isplativosti ulaganja"
          ],
          [
           "## Ključni pojmovi"
          ],
          [
           "## Kriteriji za odabir projekata"
          ],
          [
           "NPV je razlika sadašnje vrijednosti neto novčanih tokova i investicijskih troškova."
          ],
          [
           "IRR je diskontna stopa kod koje je NPV projekta nula.  "
          ],
          [
           "## 4. Metoda diskontiranog razdoblja povrata"
          ],
          [
           "## 6. Metoda odnosa koristi i troškova"
          ],
          [
           "# Primjeri"
          ],
          [
           "# Zadaci za vježbu (skraćeno)"
          ],
          [
           "# Trošak kapitala"
          ],
          [
           "- **Trošak duga:**  "
          ],
          [
           "---"
          ],
          [
           "# Kako prepoznati i izbjeći financijske prijevare"
          ],
          [
           "Financijske prijevare su stare koliko i novac. S razvojem tržišta i tehnologije, prijevare postaju sve sofisticiranije. Povijesno su poznate Ponzi sheme, “kralj financijskih iluzija” Charles Ponzi, Bernie Madoff i moderne piramidalne igre poput OneCoina. U novije vrijeme, digitalizacija i kriptovalute omogućuju nove vrste prijevara."
          ],
          [
           "- **Ponzi shema:** obećava visoke i brze povrate, koristi novac novih ulagača za isplatu starima. Najpoznatiji su Charles Ponzi i Bernie Madoff."
          ],
          [
           "- **Malware, vishing i phishing:** štetni linkovi, lažni telefonski pozivi i mailovi, krađa osobnih podataka."
          ],
          [
           "## Tipični znakovi prijevare"
          ],
          [
           "- Ponuda visokog, brzog i sigurnog povrata"
          ],
          [
           "1. **Edukacija:** upoznaj se s najčešćim oblicima prijevara."
          ],
          [
           "5. **Pazi na investicijska društva izvan EU:** naročito s egzotičnih otoka, gdje je nadzor slab."
          ],
          [
           "## Posebno o kriptotržištu i kriptovalutama"
          ],
          [
           "- Kriptovalute nisu pod nadzorom središnjih banaka."
          ],
          [
           "## Nova regulativa (MiCA)"
          ],
          [
           "## Što ako postaneš žrtva prijevare?"
          ],
          [
           "## Najvažnije poruke za zaštitu"
          ],
          [
           "# 5 koraka za uspješno ulaganje u zlato"
          ],
          [
           "- **Rast vrijednosti:** Zlato je u zadnjih 20 godina ostvarilo prosječan godišnji rast od oko 9%, što je više od štednje, dionica ili nekretnina."
          ],
          [
           "- **Tajnost:** Ne postoji registar vlasnika, pa je kupnja diskretna."
          ],
          [
           "## 5 ključnih koraka za ulaganje u zlato"
          ],
          [
           "### 2. Pravilno odaberi partnera za kupnju"
          ],
          [
           "- Usporedi cijene kod više distributera i provjeri postoje li skriveni troškovi."
          ],
          [
           "### 4. Nemoj ulagati pod pritiskom"
          ],
          [
           "### 5. Učini ulaganje sigurnim"
          ],
          [
           "## Gdje kupiti zlato u Hrvatskoj?"
          ],
          [
           "## Zaključak"
          ],
          [
           "# Investiranje kao dugoročno isplativa alternativa štednji"
          ],
          [
           "- **Štednja**: Odlaganje novca radi sigurnosti, niskog rizika i brze dostupnosti. Najčešće se odnosi na štednju u banci, s malim povratom."
          ],
          [
           "- **Investiranje**: Cilj je ostvariti veći prinos kroz različite vrste ulaganja (dionice, obveznice, fondovi, nekretnine, kriptovalute, zlato). Nositelj je većeg rizika, ali i mogućnosti većeg povrata. Dugoročno investiranje čuva vrijednost novca od inflacije."
          ],
          [
           "## Financijska pismenost"
          ],
          [
           "## Kada i kako početi investirati?"
          ],
          [
           "## Investicijski pristupi"
          ],
          [
           "## Proces investiranja"
          ],
          [
           "## Analiza ulaganja"
          ],
          [
           "## Vrste investicija"
          ],
          [
           "## Rizici i diverzifikacija"
          ],
          [
           "## Stanje u Hrvatskoj"
          ],
          [
           "## Ključne poruke"
          ],
          [
           "Investicijski fondovi - edukativni sazetak"
          ],
          [
           "- Namijenjeni sirokom krugu ulagatelja."
          ],
          [
           "- Siri spektar ulaganja, ukljucujuci rizicnije instrumente."
          ],
          [
           "profesionalnim i kvalificiranim ulagateljima."
          ],
          [
           "- Sve dokumente pronaci na internetskim stranicama fonda ili Hanfe."
          ],
          [
           "prelazi na sud."
          ],
          [
           "- Zatvoreni: udjele ne mozes otkupiti izravno iz imovine fonda."
          ],
          [
           "Dodatne informacije"
          ],
          [
           "Prakticna financijska pismenost i osnove ulaganja"
          ],
          [
           "financijsko ponasanje."
          ],
          [
           "odluka."
          ],
          [
           "4. Donosenje informiranih financijskih odluka"
          ],
          [
           "analiziraj iskustvo nakon kupnje."
          ],
          [
           "6. Stednja i ulaganje"
          ],
          [
           "- Stednja je sigurna, ali ne stiti uvijek od inflacije. Ulaganje moze donijeti veci prinos, ali i veci rizik."
          ],
          [
           "- Redovito prati svoja ulaganja i uci iz iskustva."
          ],
          [
           "# Osnovni pojmovi ulaganja"
          ],
          [
           "# Razlika između štednje i ulaganja"
          ],
          [
           "# Vrste investicija"
          ],
          [
           "## Dionice  "
          ],
          [
           "## ETF-ovi (Exchange Traded Funds)  "
          ],
          [
           "## Nekretnine  "
          ],
          [
           "## Kriptovalute  "
          ],
          [
           "# Diversifikacija"
          ],
          [
           "# Investicijska strategija"
          ],
          [
           "# Mirovinski fondovi u Hrvatskoj"
          ],
          [
           "# Početnički savjeti"
          ],
          [
           "# Rizici ulaganja"
          ],
          [
           "# Psihologija ulaganja"
          ],
          [
           "# Zaključak"
          ],
          [
           "# Uvod: U što ulažu bogati, a siromašni i srednja klasa ne?"
          ],
          [
           "# Pravilo 90/10"
          ],
          [
           "# Razmišljanje bogatog investitora"
          ],
          [
           "# Kontrole investitora"
          ],
          [
           "# Mentalna priprema za investiranje"
          ],
          [
           "Kiyosaki razlikuje nekoliko razina investitora:"
          ],
          [
           "- **Vrhunski investitor** – stvara investicije u koje drugi ulažu."
          ],
          [
           "# Biznis i investiranje"
          ],
          [
           "# Rizici i prilike"
          ],
          [
           "# Psihologija i emocije"
          ],
          [
           "---"
          ],
          [
           "# Analiza isplativosti ulaganja"
          ],
          [
           "## Ključni pojmovi"
          ],
          [
           "## Kriteriji za odabir projekata"
          ],
          [
           "NPV je razlika sadašnje vrijednosti neto novčanih tokova i investicijskih troškova."
          ],
          [
           "IRR je diskontna stopa kod koje je NPV projekta nula.  "
          ],
          [
           "## 4. Metoda diskontiranog razdoblja povrata"
          ],
          [
           "## 6. Metoda odnosa koristi i troškova"
          ],
          [
           "# Primjeri"
          ],
          [
           "# Zadaci za vježbu (skraćeno)"
          ],
          [
           "# Trošak kapitala"
          ],
          [
           "- **Trošak duga:**  "
          ],
          [
           "---"
          ],
          [
           "# Kako prepoznati i izbjeći financijske prijevare"
          ],
          [
           "Financijske prijevare su stare koliko i novac. S razvojem tržišta i tehnologije, prijevare postaju sve sofisticiranije. Povijesno su poznate Ponzi sheme, “kralj financijskih iluzija” Charles Ponzi, Bernie Madoff i moderne piramidalne igre poput OneCoina. U novije vrijeme, digitalizacija i kriptovalute omogućuju nove vrste prijevara."
          ],
          [
           "- **Ponzi shema:** obećava visoke i brze povrate, koristi novac novih ulagača za isplatu starima. Najpoznatiji su Charles Ponzi i Bernie Madoff."
          ],
          [
           "- **Malware, vishing i phishing:** štetni linkovi, lažni telefonski pozivi i mailovi, krađa osobnih podataka."
          ],
          [
           "## Tipični znakovi prijevare"
          ],
          [
           "- Ponuda visokog, brzog i sigurnog povrata"
          ],
          [
           "1. **Edukacija:** upoznaj se s najčešćim oblicima prijevara."
          ],
          [
           "5. **Pazi na investicijska društva izvan EU:** naročito s egzotičnih otoka, gdje je nadzor slab."
          ],
          [
           "## Posebno o kriptotržištu i kriptovalutama"
          ],
          [
           "- Kriptovalute nisu pod nadzorom središnjih banaka."
          ],
          [
           "## Nova regulativa (MiCA)"
          ],
          [
           "## Što ako postaneš žrtva prijevare?"
          ],
          [
           "## Najvažnije poruke za zaštitu"
          ],
          [
           "# 5 koraka za uspješno ulaganje u zlato"
          ],
          [
           "- **Rast vrijednosti:** Zlato je u zadnjih 20 godina ostvarilo prosječan godišnji rast od oko 9%, što je više od štednje, dionica ili nekretnina."
          ],
          [
           "- **Tajnost:** Ne postoji registar vlasnika, pa je kupnja diskretna."
          ],
          [
           "## 5 ključnih koraka za ulaganje u zlato"
          ],
          [
           "### 2. Pravilno odaberi partnera za kupnju"
          ],
          [
           "- Usporedi cijene kod više distributera i provjeri postoje li skriveni troškovi."
          ],
          [
           "### 4. Nemoj ulagati pod pritiskom"
          ],
          [
           "### 5. Učini ulaganje sigurnim"
          ],
          [
           "## Gdje kupiti zlato u Hrvatskoj?"
          ],
          [
           "## Zaključak"
          ],
          [
           "# Investiranje kao dugoročno isplativa alternativa štednji"
          ],
          [
           "- **Štednja**: Odlaganje novca radi sigurnosti, niskog rizika i brze dostupnosti. Najčešće se odnosi na štednju u banci, s malim povratom."
          ],
          [
           "- **Investiranje**: Cilj je ostvariti veći prinos kroz različite vrste ulaganja (dionice, obveznice, fondovi, nekretnine, kriptovalute, zlato). Nositelj je većeg rizika, ali i mogućnosti većeg povrata. Dugoročno investiranje čuva vrijednost novca od inflacije."
          ],
          [
           "## Financijska pismenost"
          ],
          [
           "## Kada i kako početi investirati?"
          ],
          [
           "## Investicijski pristupi"
          ],
          [
           "## Proces investiranja"
          ],
          [
           "## Analiza ulaganja"
          ],
          [
           "## Vrste investicija"
          ],
          [
           "## Rizici i diverzifikacija"
          ],
          [
           "## Stanje u Hrvatskoj"
          ],
          [
           "## Ključne poruke"
          ],
          [
           "Investicijski fondovi - edukativni sazetak"
          ],
          [
           "- Namijenjeni sirokom krugu ulagatelja."
          ],
          [
           "- Siri spektar ulaganja, ukljucujuci rizicnije instrumente."
          ],
          [
           "profesionalnim i kvalificiranim ulagateljima."
          ],
          [
           "- Sve dokumente pronaci na internetskim stranicama fonda ili Hanfe."
          ],
          [
           "prelazi na sud."
          ],
          [
           "- Zatvoreni: udjele ne mozes otkupiti izravno iz imovine fonda."
          ],
          [
           "Dodatne informacije"
          ],
          [
           "Prakticna financijska pismenost i osnove ulaganja"
          ],
          [
           "financijsko ponasanje."
          ],
          [
           "odluka."
          ],
          [
           "4. Donosenje informiranih financijskih odluka"
          ],
          [
           "analiziraj iskustvo nakon kupnje."
          ],
          [
           "6. Stednja i ulaganje"
          ],
          [
           "- Stednja je sigurna, ali ne stiti uvijek od inflacije. Ulaganje moze donijeti veci prinos, ali i veci rizik."
          ],
          [
           "- Redovito prati svoja ulaganja i uci iz iskustva."
          ],
          [
           "# Osnovni pojmovi ulaganja"
          ],
          [
           "# Razlika između štednje i ulaganja"
          ],
          [
           "# Vrste investicija"
          ],
          [
           "## Dionice  "
          ],
          [
           "## ETF-ovi (Exchange Traded Funds)  "
          ],
          [
           "## Nekretnine  "
          ],
          [
           "## Kriptovalute  "
          ],
          [
           "# Diversifikacija"
          ],
          [
           "# Investicijska strategija"
          ],
          [
           "# Mirovinski fondovi u Hrvatskoj"
          ],
          [
           "# Početnički savjeti"
          ],
          [
           "# Rizici ulaganja"
          ],
          [
           "# Psihologija ulaganja"
          ],
          [
           "# Zaključak"
          ],
          [
           "# Uvod: U što ulažu bogati, a siromašni i srednja klasa ne?"
          ],
          [
           "# Pravilo 90/10"
          ],
          [
           "# Razmišljanje bogatog investitora"
          ],
          [
           "# Kontrole investitora"
          ],
          [
           "# Mentalna priprema za investiranje"
          ],
          [
           "Kiyosaki razlikuje nekoliko razina investitora:"
          ],
          [
           "- **Vrhunski investitor** – stvara investicije u koje drugi ulažu."
          ],
          [
           "# Biznis i investiranje"
          ],
          [
           "# Rizici i prilike"
          ],
          [
           "# Psihologija i emocije"
          ],
          [
           "---"
          ],
          [
           "# Analiza isplativosti ulaganja"
          ],
          [
           "## Ključni pojmovi"
          ],
          [
           "## Kriteriji za odabir projekata"
          ],
          [
           "NPV je razlika sadašnje vrijednosti neto novčanih tokova i investicijskih troškova."
          ],
          [
           "IRR je diskontna stopa kod koje je NPV projekta nula.  "
          ],
          [
           "## 4. Metoda diskontiranog razdoblja povrata"
          ],
          [
           "## 6. Metoda odnosa koristi i troškova"
          ],
          [
           "# Primjeri"
          ],
          [
           "# Zadaci za vježbu (skraćeno)"
          ],
          [
           "# Trošak kapitala"
          ],
          [
           "- **Trošak duga:**  "
          ],
          [
           "---"
          ],
          [
           "# Kako prepoznati i izbjeći financijske prijevare"
          ],
          [
           "Financijske prijevare su stare koliko i novac. S razvojem tržišta i tehnologije, prijevare postaju sve sofisticiranije. Povijesno su poznate Ponzi sheme, “kralj financijskih iluzija” Charles Ponzi, Bernie Madoff i moderne piramidalne igre poput OneCoina. U novije vrijeme, digitalizacija i kriptovalute omogućuju nove vrste prijevara."
          ],
          [
           "- **Ponzi shema:** obećava visoke i brze povrate, koristi novac novih ulagača za isplatu starima. Najpoznatiji su Charles Ponzi i Bernie Madoff."
          ],
          [
           "- **Malware, vishing i phishing:** štetni linkovi, lažni telefonski pozivi i mailovi, krađa osobnih podataka."
          ],
          [
           "## Tipični znakovi prijevare"
          ],
          [
           "- Ponuda visokog, brzog i sigurnog povrata"
          ],
          [
           "1. **Edukacija:** upoznaj se s najčešćim oblicima prijevara."
          ],
          [
           "5. **Pazi na investicijska društva izvan EU:** naročito s egzotičnih otoka, gdje je nadzor slab."
          ],
          [
           "## Posebno o kriptotržištu i kriptovalutama"
          ],
          [
           "- Kriptovalute nisu pod nadzorom središnjih banaka."
          ],
          [
           "## Nova regulativa (MiCA)"
          ],
          [
           "## Što ako postaneš žrtva prijevare?"
          ],
          [
           "## Najvažnije poruke za zaštitu"
          ],
          [
           "# 5 koraka za uspješno ulaganje u zlato"
          ],
          [
           "- **Rast vrijednosti:** Zlato je u zadnjih 20 godina ostvarilo prosječan godišnji rast od oko 9%, što je više od štednje, dionica ili nekretnina."
          ],
          [
           "- **Tajnost:** Ne postoji registar vlasnika, pa je kupnja diskretna."
          ],
          [
           "## 5 ključnih koraka za ulaganje u zlato"
          ],
          [
           "### 2. Pravilno odaberi partnera za kupnju"
          ],
          [
           "- Usporedi cijene kod više distributera i provjeri postoje li skriveni troškovi."
          ],
          [
           "### 4. Nemoj ulagati pod pritiskom"
          ],
          [
           "### 5. Učini ulaganje sigurnim"
          ],
          [
           "## Gdje kupiti zlato u Hrvatskoj?"
          ],
          [
           "## Zaključak"
          ],
          [
           "# Investiranje kao dugoročno isplativa alternativa štednji"
          ],
          [
           "- **Štednja**: Odlaganje novca radi sigurnosti, niskog rizika i brze dostupnosti. Najčešće se odnosi na štednju u banci, s malim povratom."
          ],
          [
           "- **Investiranje**: Cilj je ostvariti veći prinos kroz različite vrste ulaganja (dionice, obveznice, fondovi, nekretnine, kriptovalute, zlato). Nositelj je većeg rizika, ali i mogućnosti većeg povrata. Dugoročno investiranje čuva vrijednost novca od inflacije."
          ],
          [
           "## Financijska pismenost"
          ],
          [
           "## Kada i kako početi investirati?"
          ],
          [
           "## Investicijski pristupi"
          ],
          [
           "## Proces investiranja"
          ],
          [
           "## Analiza ulaganja"
          ],
          [
           "## Vrste investicija"
          ],
          [
           "## Rizici i diverzifikacija"
          ],
          [
           "## Stanje u Hrvatskoj"
          ],
          [
           "## Ključne poruke"
          ],
          [
           "Investicijski fondovi - edukativni sazetak"
          ],
          [
           "- Namijenjeni sirokom krugu ulagatelja."
          ],
          [
           "- Siri spektar ulaganja, ukljucujuci rizicnije instrumente."
          ],
          [
           "profesionalnim i kvalificiranim ulagateljima."
          ],
          [
           "- Sve dokumente pronaci na internetskim stranicama fonda ili Hanfe."
          ],
          [
           "prelazi na sud."
          ],
          [
           "- Zatvoreni: udjele ne mozes otkupiti izravno iz imovine fonda."
          ],
          [
           "Dodatne informacije"
          ],
          [
           "Prakticna financijska pismenost i osnove ulaganja"
          ],
          [
           "financijsko ponasanje."
          ],
          [
           "odluka."
          ],
          [
           "4. Donosenje informiranih financijskih odluka"
          ],
          [
           "analiziraj iskustvo nakon kupnje."
          ],
          [
           "6. Stednja i ulaganje"
          ],
          [
           "- Stednja je sigurna, ali ne stiti uvijek od inflacije. Ulaganje moze donijeti veci prinos, ali i veci rizik."
          ],
          [
           "- Redovito prati svoja ulaganja i uci iz iskustva."
          ],
          [
           "# Osnovni pojmovi ulaganja"
          ],
          [
           "# Razlika između štednje i ulaganja"
          ],
          [
           "# Vrste investicija"
          ],
          [
           "## Dionice  "
          ],
          [
           "## ETF-ovi (Exchange Traded Funds)  "
          ],
          [
           "## Nekretnine  "
          ],
          [
           "## Kriptovalute  "
          ],
          [
           "# Diversifikacija"
          ],
          [
           "# Investicijska strategija"
          ],
          [
           "# Mirovinski fondovi u Hrvatskoj"
          ],
          [
           "# Početnički savjeti"
          ],
          [
           "# Rizici ulaganja"
          ],
          [
           "# Psihologija ulaganja"
          ],
          [
           "# Zaključak"
          ],
          [
           "# Uvod: U što ulažu bogati, a siromašni i srednja klasa ne?"
          ],
          [
           "# Pravilo 90/10"
          ],
          [
           "# Razmišljanje bogatog investitora"
          ],
          [
           "# Kontrole investitora"
          ],
          [
           "# Mentalna priprema za investiranje"
          ],
          [
           "Kiyosaki razlikuje nekoliko razina investitora:"
          ],
          [
           "- **Vrhunski investitor** – stvara investicije u koje drugi ulažu."
          ],
          [
           "# Biznis i investiranje"
          ],
          [
           "# Rizici i prilike"
          ],
          [
           "# Psihologija i emocije"
          ],
          [
           "---"
          ],
          [
           "# Analiza isplativosti ulaganja"
          ],
          [
           "## Ključni pojmovi"
          ],
          [
           "## Kriteriji za odabir projekata"
          ],
          [
           "NPV je razlika sadašnje vrijednosti neto novčanih tokova i investicijskih troškova."
          ],
          [
           "IRR je diskontna stopa kod koje je NPV projekta nula.  "
          ],
          [
           "## 4. Metoda diskontiranog razdoblja povrata"
          ],
          [
           "## 6. Metoda odnosa koristi i troškova"
          ],
          [
           "# Primjeri"
          ],
          [
           "# Zadaci za vježbu (skraćeno)"
          ],
          [
           "# Trošak kapitala"
          ],
          [
           "- **Trošak duga:**  "
          ],
          [
           "---"
          ],
          [
           "# Kako prepoznati i izbjeći financijske prijevare"
          ],
          [
           "Financijske prijevare su stare koliko i novac. S razvojem tržišta i tehnologije, prijevare postaju sve sofisticiranije. Povijesno su poznate Ponzi sheme, “kralj financijskih iluzija” Charles Ponzi, Bernie Madoff i moderne piramidalne igre poput OneCoina. U novije vrijeme, digitalizacija i kriptovalute omogućuju nove vrste prijevara."
          ],
          [
           "- **Ponzi shema:** obećava visoke i brze povrate, koristi novac novih ulagača za isplatu starima. Najpoznatiji su Charles Ponzi i Bernie Madoff."
          ],
          [
           "- **Malware, vishing i phishing:** štetni linkovi, lažni telefonski pozivi i mailovi, krađa osobnih podataka."
          ],
          [
           "## Tipični znakovi prijevare"
          ],
          [
           "- Ponuda visokog, brzog i sigurnog povrata"
          ],
          [
           "1. **Edukacija:** upoznaj se s najčešćim oblicima prijevara."
          ],
          [
           "5. **Pazi na investicijska društva izvan EU:** naročito s egzotičnih otoka, gdje je nadzor slab."
          ],
          [
           "## Posebno o kriptotržištu i kriptovalutama"
          ],
          [
           "- Kriptovalute nisu pod nadzorom središnjih banaka."
          ],
          [
           "## Nova regulativa (MiCA)"
          ],
          [
           "## Što ako postaneš žrtva prijevare?"
          ],
          [
           "## Najvažnije poruke za zaštitu"
          ],
          [
           "# 5 koraka za uspješno ulaganje u zlato"
          ],
          [
           "- **Rast vrijednosti:** Zlato je u zadnjih 20 godina ostvarilo prosječan godišnji rast od oko 9%, što je više od štednje, dionica ili nekretnina."
          ],
          [
           "- **Tajnost:** Ne postoji registar vlasnika, pa je kupnja diskretna."
          ],
          [
           "## 5 ključnih koraka za ulaganje u zlato"
          ],
          [
           "### 2. Pravilno odaberi partnera za kupnju"
          ],
          [
           "- Usporedi cijene kod više distributera i provjeri postoje li skriveni troškovi."
          ],
          [
           "### 4. Nemoj ulagati pod pritiskom"
          ],
          [
           "### 5. Učini ulaganje sigurnim"
          ],
          [
           "## Gdje kupiti zlato u Hrvatskoj?"
          ],
          [
           "## Zaključak"
          ],
          [
           "# Investiranje kao dugoročno isplativa alternativa štednji"
          ],
          [
           "- **Štednja**: Odlaganje novca radi sigurnosti, niskog rizika i brze dostupnosti. Najčešće se odnosi na štednju u banci, s malim povratom."
          ],
          [
           "- **Investiranje**: Cilj je ostvariti veći prinos kroz različite vrste ulaganja (dionice, obveznice, fondovi, nekretnine, kriptovalute, zlato). Nositelj je većeg rizika, ali i mogućnosti većeg povrata. Dugoročno investiranje čuva vrijednost novca od inflacije."
          ],
          [
           "## Financijska pismenost"
          ],
          [
           "## Kada i kako početi investirati?"
          ],
          [
           "## Investicijski pristupi"
          ],
          [
           "## Proces investiranja"
          ],
          [
           "## Analiza ulaganja"
          ],
          [
           "## Vrste investicija"
          ],
          [
           "## Rizici i diverzifikacija"
          ],
          [
           "## Stanje u Hrvatskoj"
          ],
          [
           "## Ključne poruke"
          ],
          [
           "Investicijski fondovi - edukativni sazetak"
          ],
          [
           "- Namijenjeni sirokom krugu ulagatelja."
          ],
          [
           "- Siri spektar ulaganja, ukljucujuci rizicnije instrumente."
          ],
          [
           "profesionalnim i kvalificiranim ulagateljima."
          ],
          [
           "- Sve dokumente pronaci na internetskim stranicama fonda ili Hanfe."
          ],
          [
           "prelazi na sud."
          ],
          [
           "- Zatvoreni: udjele ne mozes otkupiti izravno iz imovine fonda."
          ],
          [
           "Dodatne informacije"
          ],
          [
           "Prakticna financijska pismenost i osnove ulaganja"
          ],
          [
           "financijsko ponasanje."
          ],
          [
           "odluka."
          ],
          [
           "4. Donosenje informiranih financijskih odluka"
          ],
          [
           "analiziraj iskustvo nakon kupnje."
          ],
          [
           "6. Stednja i ulaganje"
          ],
          [
           "- Stednja je sigurna, ali ne stiti uvijek od inflacije. Ulaganje moze donijeti veci prinos, ali i veci rizik."
          ],
          [
           "- Redovito prati svoja ulaganja i uci iz iskustva."
          ],
          [
           "# Osnovni pojmovi ulaganja"
          ],
          [
           "# Razlika između štednje i ulaganja"
          ],
          [
           "# Vrste investicija"
          ],
          [
           "## Dionice  "
          ],
          [
           "## ETF-ovi (Exchange Traded Funds)  "
          ],
          [
           "## Nekretnine  "
          ],
          [
           "## Kriptovalute  "
          ],
          [
           "# Diversifikacija"
          ],
          [
           "# Investicijska strategija"
          ],
          [
           "# Mirovinski fondovi u Hrvatskoj"
          ],
          [
           "# Početnički savjeti"
          ],
          [
           "# Rizici ulaganja"
          ],
          [
           "# Psihologija ulaganja"
          ],
          [
           "# Zaključak"
          ],
          [
           "# Uvod: U što ulažu bogati, a siromašni i srednja klasa ne?"
          ],
          [
           "# Pravilo 90/10"
          ],
          [
           "# Razmišljanje bogatog investitora"
          ],
          [
           "# Kontrole investitora"
          ],
          [
           "# Mentalna priprema za investiranje"
          ],
          [
           "Kiyosaki razlikuje nekoliko razina investitora:"
          ],
          [
           "- **Vrhunski investitor** – stvara investicije u koje drugi ulažu."
          ],
          [
           "# Biznis i investiranje"
          ],
          [
           "# Rizici i prilike"
          ],
          [
           "# Psihologija i emocije"
          ],
          [
           "---"
          ],
          [
           "# Analiza isplativosti ulaganja"
          ],
          [
           "## Ključni pojmovi"
          ],
          [
           "## Kriteriji za odabir projekata"
          ],
          [
           "NPV je razlika sadašnje vrijednosti neto novčanih tokova i investicijskih troškova."
          ],
          [
           "IRR je diskontna stopa kod koje je NPV projekta nula.  "
          ],
          [
           "## 4. Metoda diskontiranog razdoblja povrata"
          ],
          [
           "## 6. Metoda odnosa koristi i troškova"
          ],
          [
           "# Primjeri"
          ],
          [
           "# Zadaci za vježbu (skraćeno)"
          ],
          [
           "# Trošak kapitala"
          ],
          [
           "- **Trošak duga:**  "
          ],
          [
           "---"
          ],
          [
           "# Kako prepoznati i izbjeći financijske prijevare"
          ],
          [
           "Financijske prijevare su stare koliko i novac. S razvojem tržišta i tehnologije, prijevare postaju sve sofisticiranije. Povijesno su poznate Ponzi sheme, “kralj financijskih iluzija” Charles Ponzi, Bernie Madoff i moderne piramidalne igre poput OneCoina. U novije vrijeme, digitalizacija i kriptovalute omogućuju nove vrste prijevara."
          ],
          [
           "- **Ponzi shema:** obećava visoke i brze povrate, koristi novac novih ulagača za isplatu starima. Najpoznatiji su Charles Ponzi i Bernie Madoff."
          ],
          [
           "- **Malware, vishing i phishing:** štetni linkovi, lažni telefonski pozivi i mailovi, krađa osobnih podataka."
          ],
          [
           "## Tipični znakovi prijevare"
          ],
          [
           "- Ponuda visokog, brzog i sigurnog povrata"
          ],
          [
           "1. **Edukacija:** upoznaj se s najčešćim oblicima prijevara."
          ],
          [
           "5. **Pazi na investicijska društva izvan EU:** naročito s egzotičnih otoka, gdje je nadzor slab."
          ],
          [
           "## Posebno o kriptotržištu i kriptovalutama"
          ],
          [
           "- Kriptovalute nisu pod nadzorom središnjih banaka."
          ],
          [
           "## Nova regulativa (MiCA)"
          ],
          [
           "## Što ako postaneš žrtva prijevare?"
          ],
          [
           "## Najvažnije poruke za zaštitu"
          ],
          [
           "# 5 koraka za uspješno ulaganje u zlato"
          ],
          [
           "- **Rast vrijednosti:** Zlato je u zadnjih 20 godina ostvarilo prosječan godišnji rast od oko 9%, što je više od štednje, dionica ili nekretnina."
          ],
          [
           "- **Tajnost:** Ne postoji registar vlasnika, pa je kupnja diskretna."
          ],
          [
           "## 5 ključnih koraka za ulaganje u zlato"
          ],
          [
           "### 2. Pravilno odaberi partnera za kupnju"
          ],
          [
           "- Usporedi cijene kod više distributera i provjeri postoje li skriveni troškovi."
          ],
          [
           "### 4. Nemoj ulagati pod pritiskom"
          ],
          [
           "### 5. Učini ulaganje sigurnim"
          ],
          [
           "## Gdje kupiti zlato u Hrvatskoj?"
          ],
          [
           "## Zaključak"
          ],
          [
           "# Investiranje kao dugoročno isplativa alternativa štednji"
          ],
          [
           "- **Štednja**: Odlaganje novca radi sigurnosti, niskog rizika i brze dostupnosti. Najčešće se odnosi na štednju u banci, s malim povratom."
          ],
          [
           "- **Investiranje**: Cilj je ostvariti veći prinos kroz različite vrste ulaganja (dionice, obveznice, fondovi, nekretnine, kriptovalute, zlato). Nositelj je većeg rizika, ali i mogućnosti većeg povrata. Dugoročno investiranje čuva vrijednost novca od inflacije."
          ],
          [
           "## Financijska pismenost"
          ],
          [
           "## Kada i kako početi investirati?"
          ],
          [
           "## Investicijski pristupi"
          ],
          [
           "## Proces investiranja"
          ],
          [
           "## Analiza ulaganja"
          ],
          [
           "## Vrste investicija"
          ],
          [
           "## Rizici i diverzifikacija"
          ],
          [
           "## Stanje u Hrvatskoj"
          ],
          [
           "## Ključne poruke"
          ],
          [
           "Investicijski fondovi - edukativni sazetak"
          ],
          [
           "- Namijenjeni sirokom krugu ulagatelja."
          ],
          [
           "- Siri spektar ulaganja, ukljucujuci rizicnije instrumente."
          ],
          [
           "profesionalnim i kvalificiranim ulagateljima."
          ],
          [
           "- Sve dokumente pronaci na internetskim stranicama fonda ili Hanfe."
          ],
          [
           "prelazi na sud."
          ],
          [
           "- Zatvoreni: udjele ne mozes otkupiti izravno iz imovine fonda."
          ],
          [
           "Dodatne informacije"
          ],
          [
           "Prakticna financijska pismenost i osnove ulaganja"
          ],
          [
           "financijsko ponasanje."
          ],
          [
           "odluka."
          ],
          [
           "4. Donosenje informiranih financijskih odluka"
          ],
          [
           "analiziraj iskustvo nakon kupnje."
          ],
          [
           "6. Stednja i ulaganje"
          ],
          [
           "- Stednja je sigurna, ali ne stiti uvijek od inflacije. Ulaganje moze donijeti veci prinos, ali i veci rizik."
          ],
          [
           "- Redovito prati svoja ulaganja i uci iz iskustva."
          ],
          [
           "# Osnovni pojmovi ulaganja"
          ],
          [
           "# Razlika između štednje i ulaganja"
          ],
          [
           "# Vrste investicija"
          ],
          [
           "## Dionice  "
          ],
          [
           "## ETF-ovi (Exchange Traded Funds)  "
          ],
          [
           "## Nekretnine  "
          ],
          [
           "## Kriptovalute  "
          ],
          [
           "# Diversifikacija"
          ],
          [
           "# Investicijska strategija"
          ],
          [
           "# Mirovinski fondovi u Hrvatskoj"
          ],
          [
           "# Početnički savjeti"
          ],
          [
           "# Rizici ulaganja"
          ],
          [
           "# Psihologija ulaganja"
          ],
          [
           "# Zaključak"
          ],
          [
           "# Uvod: U što ulažu bogati, a siromašni i srednja klasa ne?"
          ],
          [
           "# Pravilo 90/10"
          ],
          [
           "# Razmišljanje bogatog investitora"
          ],
          [
           "# Kontrole investitora"
          ],
          [
           "# Mentalna priprema za investiranje"
          ],
          [
           "Kiyosaki razlikuje nekoliko razina investitora:"
          ],
          [
           "- **Vrhunski investitor** – stvara investicije u koje drugi ulažu."
          ],
          [
           "# Biznis i investiranje"
          ],
          [
           "# Rizici i prilike"
          ],
          [
           "# Psihologija i emocije"
          ],
          [
           "---"
          ],
          [
           "# Analiza isplativosti ulaganja"
          ],
          [
           "## Ključni pojmovi"
          ],
          [
           "## Kriteriji za odabir projekata"
          ],
          [
           "NPV je razlika sadašnje vrijednosti neto novčanih tokova i investicijskih troškova."
          ],
          [
           "IRR je diskontna stopa kod koje je NPV projekta nula.  "
          ],
          [
           "## 4. Metoda diskontiranog razdoblja povrata"
          ],
          [
           "## 6. Metoda odnosa koristi i troškova"
          ],
          [
           "# Primjeri"
          ],
          [
           "# Zadaci za vježbu (skraćeno)"
          ],
          [
           "# Trošak kapitala"
          ],
          [
           "- **Trošak duga:**  "
          ],
          [
           "---"
          ],
          [
           "# Kako prepoznati i izbjeći financijske prijevare"
          ],
          [
           "Financijske prijevare su stare koliko i novac. S razvojem tržišta i tehnologije, prijevare postaju sve sofisticiranije. Povijesno su poznate Ponzi sheme, “kralj financijskih iluzija” Charles Ponzi, Bernie Madoff i moderne piramidalne igre poput OneCoina. U novije vrijeme, digitalizacija i kriptovalute omogućuju nove vrste prijevara."
          ],
          [
           "- **Ponzi shema:** obećava visoke i brze povrate, koristi novac novih ulagača za isplatu starima. Najpoznatiji su Charles Ponzi i Bernie Madoff."
          ],
          [
           "- **Malware, vishing i phishing:** štetni linkovi, lažni telefonski pozivi i mailovi, krađa osobnih podataka."
          ],
          [
           "## Tipični znakovi prijevare"
          ],
          [
           "- Ponuda visokog, brzog i sigurnog povrata"
          ],
          [
           "1. **Edukacija:** upoznaj se s najčešćim oblicima prijevara."
          ],
          [
           "5. **Pazi na investicijska društva izvan EU:** naročito s egzotičnih otoka, gdje je nadzor slab."
          ],
          [
           "## Posebno o kriptotržištu i kriptovalutama"
          ],
          [
           "- Kriptovalute nisu pod nadzorom središnjih banaka."
          ],
          [
           "## Nova regulativa (MiCA)"
          ],
          [
           "## Što ako postaneš žrtva prijevare?"
          ],
          [
           "## Najvažnije poruke za zaštitu"
          ],
          [
           "# 5 koraka za uspješno ulaganje u zlato"
          ],
          [
           "- **Rast vrijednosti:** Zlato je u zadnjih 20 godina ostvarilo prosječan godišnji rast od oko 9%, što je više od štednje, dionica ili nekretnina."
          ],
          [
           "- **Tajnost:** Ne postoji registar vlasnika, pa je kupnja diskretna."
          ],
          [
           "## 5 ključnih koraka za ulaganje u zlato"
          ],
          [
           "### 2. Pravilno odaberi partnera za kupnju"
          ],
          [
           "- Usporedi cijene kod više distributera i provjeri postoje li skriveni troškovi."
          ],
          [
           "### 4. Nemoj ulagati pod pritiskom"
          ],
          [
           "### 5. Učini ulaganje sigurnim"
          ],
          [
           "## Gdje kupiti zlato u Hrvatskoj?"
          ],
          [
           "## Zaključak"
          ],
          [
           "# Investiranje kao dugoročno isplativa alternativa štednji"
          ],
          [
           "- **Štednja**: Odlaganje novca radi sigurnosti, niskog rizika i brze dostupnosti. Najčešće se odnosi na štednju u banci, s malim povratom."
          ],
          [
           "- **Investiranje**: Cilj je ostvariti veći prinos kroz različite vrste ulaganja (dionice, obveznice, fondovi, nekretnine, kriptovalute, zlato). Nositelj je većeg rizika, ali i mogućnosti većeg povrata. Dugoročno investiranje čuva vrijednost novca od inflacije."
          ],
          [
           "## Financijska pismenost"
          ],
          [
           "## Kada i kako početi investirati?"
          ],
          [
           "## Investicijski pristupi"
          ],
          [
           "## Proces investiranja"
          ],
          [
           "## Analiza ulaganja"
          ],
          [
           "## Vrste investicija"
          ],
          [
           "## Rizici i diverzifikacija"
          ],
          [
           "## Stanje u Hrvatskoj"
          ],
          [
           "## Ključne poruke"
          ],
          [
           "Investicijski fondovi - edukativni sazetak"
          ],
          [
           "- Namijenjeni sirokom krugu ulagatelja."
          ],
          [
           "- Siri spektar ulaganja, ukljucujuci rizicnije instrumente."
          ],
          [
           "profesionalnim i kvalificiranim ulagateljima."
          ],
          [
           "- Sve dokumente pronaci na internetskim stranicama fonda ili Hanfe."
          ],
          [
           "prelazi na sud."
          ],
          [
           "- Zatvoreni: udjele ne mozes otkupiti izravno iz imovine fonda."
          ],
          [
           "Dodatne informacije"
          ],
          [
           "Prakticna financijska pismenost i osnove ulaganja"
          ],
          [
           "financijsko ponasanje."
          ],
          [
           "odluka."
          ],
          [
           "4. Donosenje informiranih financijskih odluka"
          ],
          [
           "analiziraj iskustvo nakon kupnje."
          ],
          [
           "6. Stednja i ulaganje"
          ],
          [
           "- Stednja je sigurna, ali ne stiti uvijek od inflacije. Ulaganje moze donijeti veci prinos, ali i veci rizik."
          ],
          [
           "- Redovito prati svoja ulaganja i uci iz iskustva."
          ],
          [
           "# Osnovni pojmovi ulaganja"
          ],
          [
           "# Razlika između štednje i ulaganja"
          ],
          [
           "# Vrste investicija"
          ],
          [
           "## Dionice  "
          ],
          [
           "## ETF-ovi (Exchange Traded Funds)  "
          ],
          [
           "## Nekretnine  "
          ],
          [
           "## Kriptovalute  "
          ],
          [
           "# Diversifikacija"
          ],
          [
           "# Investicijska strategija"
          ],
          [
           "# Mirovinski fondovi u Hrvatskoj"
          ],
          [
           "# Početnički savjeti"
          ],
          [
           "# Rizici ulaganja"
          ],
          [
           "# Psihologija ulaganja"
          ],
          [
           "# Zaključak"
          ],
          [
           "# Uvod: U što ulažu bogati, a siromašni i srednja klasa ne?"
          ],
          [
           "# Pravilo 90/10"
          ],
          [
           "# Razmišljanje bogatog investitora"
          ],
          [
           "# Kontrole investitora"
          ],
          [
           "# Mentalna priprema za investiranje"
          ],
          [
           "Kiyosaki razlikuje nekoliko razina investitora:"
          ],
          [
           "- **Vrhunski investitor** – stvara investicije u koje drugi ulažu."
          ],
          [
           "# Biznis i investiranje"
          ],
          [
           "# Rizici i prilike"
          ],
          [
           "# Psihologija i emocije"
          ],
          [
           "---"
          ],
          [
           "# Analiza isplativosti ulaganja"
          ],
          [
           "## Ključni pojmovi"
          ],
          [
           "## Kriteriji za odabir projekata"
          ],
          [
           "NPV je razlika sadašnje vrijednosti neto novčanih tokova i investicijskih troškova."
          ],
          [
           "IRR je diskontna stopa kod koje je NPV projekta nula.  "
          ],
          [
           "## 4. Metoda diskontiranog razdoblja povrata"
          ],
          [
           "## 6. Metoda odnosa koristi i troškova"
          ],
          [
           "# Primjeri"
          ],
          [
           "# Zadaci za vježbu (skraćeno)"
          ],
          [
           "# Trošak kapitala"
          ],
          [
           "- **Trošak duga:**  "
          ],
          [
           "---"
          ],
          [
           "# Kako prepoznati i izbjeći financijske prijevare"
          ],
          [
           "Financijske prijevare su stare koliko i novac. S razvojem tržišta i tehnologije, prijevare postaju sve sofisticiranije. Povijesno su poznate Ponzi sheme, “kralj financijskih iluzija” Charles Ponzi, Bernie Madoff i moderne piramidalne igre poput OneCoina. U novije vrijeme, digitalizacija i kriptovalute omogućuju nove vrste prijevara."
          ],
          [
           "- **Ponzi shema:** obećava visoke i brze povrate, koristi novac novih ulagača za isplatu starima. Najpoznatiji su Charles Ponzi i Bernie Madoff."
          ],
          [
           "- **Malware, vishing i phishing:** štetni linkovi, lažni telefonski pozivi i mailovi, krađa osobnih podataka."
          ],
          [
           "## Tipični znakovi prijevare"
          ],
          [
           "- Ponuda visokog, brzog i sigurnog povrata"
          ],
          [
           "1. **Edukacija:** upoznaj se s najčešćim oblicima prijevara."
          ],
          [
           "5. **Pazi na investicijska društva izvan EU:** naročito s egzotičnih otoka, gdje je nadzor slab."
          ],
          [
           "## Posebno o kriptotržištu i kriptovalutama"
          ],
          [
           "- Kriptovalute nisu pod nadzorom središnjih banaka."
          ],
          [
           "## Nova regulativa (MiCA)"
          ],
          [
           "## Što ako postaneš žrtva prijevare?"
          ],
          [
           "## Najvažnije poruke za zaštitu"
          ],
          [
           "# 5 koraka za uspješno ulaganje u zlato"
          ],
          [
           "- **Rast vrijednosti:** Zlato je u zadnjih 20 godina ostvarilo prosječan godišnji rast od oko 9%, što je više od štednje, dionica ili nekretnina."
          ],
          [
           "- **Tajnost:** Ne postoji registar vlasnika, pa je kupnja diskretna."
          ],
          [
           "## 5 ključnih koraka za ulaganje u zlato"
          ],
          [
           "### 2. Pravilno odaberi partnera za kupnju"
          ],
          [
           "- Usporedi cijene kod više distributera i provjeri postoje li skriveni troškovi."
          ],
          [
           "### 4. Nemoj ulagati pod pritiskom"
          ],
          [
           "### 5. Učini ulaganje sigurnim"
          ],
          [
           "## Gdje kupiti zlato u Hrvatskoj?"
          ],
          [
           "## Zaključak"
          ],
          [
           "# Investiranje kao dugoročno isplativa alternativa štednji"
          ],
          [
           "- **Štednja**: Odlaganje novca radi sigurnosti, niskog rizika i brze dostupnosti. Najčešće se odnosi na štednju u banci, s malim povratom."
          ],
          [
           "- **Investiranje**: Cilj je ostvariti veći prinos kroz različite vrste ulaganja (dionice, obveznice, fondovi, nekretnine, kriptovalute, zlato). Nositelj je većeg rizika, ali i mogućnosti većeg povrata. Dugoročno investiranje čuva vrijednost novca od inflacije."
          ],
          [
           "## Financijska pismenost"
          ],
          [
           "## Kada i kako početi investirati?"
          ],
          [
           "## Investicijski pristupi"
          ],
          [
           "## Proces investiranja"
          ],
          [
           "## Analiza ulaganja"
          ],
          [
           "## Vrste investicija"
          ],
          [
           "## Rizici i diverzifikacija"
          ],
          [
           "## Stanje u Hrvatskoj"
          ],
          [
           "## Ključne poruke"
          ],
          [
           "Investicijski fondovi - edukativni sazetak"
          ],
          [
           "- Namijenjeni sirokom krugu ulagatelja."
          ],
          [
           "- Siri spektar ulaganja, ukljucujuci rizicnije instrumente."
          ],
          [
           "profesionalnim i kvalificiranim ulagateljima."
          ],
          [
           "- Sve dokumente pronaci na internetskim stranicama fonda ili Hanfe."
          ],
          [
           "prelazi na sud."
          ],
          [
           "- Zatvoreni: udjele ne mozes otkupiti izravno iz imovine fonda."
          ],
          [
           "Dodatne informacije"
          ],
          [
           "Prakticna financijska pismenost i osnove ulaganja"
          ],
          [
           "financijsko ponasanje."
          ],
          [
           "odluka."
          ],
          [
           "4. Donosenje informiranih financijskih odluka"
          ],
          [
           "analiziraj iskustvo nakon kupnje."
          ],
          [
           "6. Stednja i ulaganje"
          ],
          [
           "- Stednja je sigurna, ali ne stiti uvijek od inflacije. Ulaganje moze donijeti veci prinos, ali i veci rizik."
          ],
          [
           "- Redovito prati svoja ulaganja i uci iz iskustva."
          ],
          [
           "# Osnovni pojmovi ulaganja"
          ],
          [
           "# Razlika između štednje i ulaganja"
          ],
          [
           "# Vrste investicija"
          ],
          [
           "## Dionice  "
          ],
          [
           "## ETF-ovi (Exchange Traded Funds)  "
          ],
          [
           "## Nekretnine  "
          ],
          [
           "## Kriptovalute  "
          ],
          [
           "# Diversifikacija"
          ],
          [
           "# Investicijska strategija"
          ],
          [
           "# Mirovinski fondovi u Hrvatskoj"
          ],
          [
           "# Početnički savjeti"
          ],
          [
           "# Rizici ulaganja"
          ],
          [
           "# Psihologija ulaganja"
          ],
          [
           "# Zaključak"
          ],
          [
           "# Uvod: U što ulažu bogati, a siromašni i srednja klasa ne?"
          ],
          [
           "# Pravilo 90/10"
          ],
          [
           "# Razmišljanje bogatog investitora"
          ],
          [
           "# Kontrole investitora"
          ],
          [
           "# Mentalna priprema za investiranje"
          ],
          [
           "Kiyosaki razlikuje nekoliko razina investitora:"
          ],
          [
           "- **Vrhunski investitor** – stvara investicije u koje drugi ulažu."
          ],
          [
           "# Biznis i investiranje"
          ],
          [
           "# Rizici i prilike"
          ],
          [
           "# Psihologija i emocije"
          ],
          [
           "---"
          ],
          [
           "# Analiza isplativosti ulaganja"
          ],
          [
           "## Ključni pojmovi"
          ],
          [
           "## Kriteriji za odabir projekata"
          ],
          [
           "NPV je razlika sadašnje vrijednosti neto novčanih tokova i investicijskih troškova."
          ],
          [
           "IRR je diskontna stopa kod koje je NPV projekta nula.  "
          ],
          [
           "## 4. Metoda diskontiranog razdoblja povrata"
          ],
          [
           "## 6. Metoda odnosa koristi i troškova"
          ],
          [
           "# Primjeri"
          ],
          [
           "# Zadaci za vježbu (skraćeno)"
          ],
          [
           "# Trošak kapitala"
          ],
          [
           "- **Trošak duga:**  "
          ],
          [
           "---"
          ],
          [
           "# Kako prepoznati i izbjeći financijske prijevare"
          ],
          [
           "Financijske prijevare su stare koliko i novac. S razvojem tržišta i tehnologije, prijevare postaju sve sofisticiranije. Povijesno su poznate Ponzi sheme, “kralj financijskih iluzija” Charles Ponzi, Bernie Madoff i moderne piramidalne igre poput OneCoina. U novije vrijeme, digitalizacija i kriptovalute omogućuju nove vrste prijevara."
          ],
          [
           "- **Ponzi shema:** obećava visoke i brze povrate, koristi novac novih ulagača za isplatu starima. Najpoznatiji su Charles Ponzi i Bernie Madoff."
          ],
          [
           "- **Malware, vishing i phishing:** štetni linkovi, lažni telefonski pozivi i mailovi, krađa osobnih podataka."
          ],
          [
           "## Tipični znakovi prijevare"
          ],
          [
           "- Ponuda visokog, brzog i sigurnog povrata"
          ],
          [
           "1. **Edukacija:** upoznaj se s najčešćim oblicima prijevara."
          ],
          [
           "5. **Pazi na investicijska društva izvan EU:** naročito s egzotičnih otoka, gdje je nadzor slab."
          ],
          [
           "## Posebno o kriptotržištu i kriptovalutama"
          ],
          [
           "- Kriptovalute nisu pod nadzorom središnjih banaka."
          ],
          [
           "## Nova regulativa (MiCA)"
          ],
          [
           "## Što ako postaneš žrtva prijevare?"
          ],
          [
           "## Najvažnije poruke za zaštitu"
          ],
          [
           "# 5 koraka za uspješno ulaganje u zlato"
          ],
          [
           "- **Rast vrijednosti:** Zlato je u zadnjih 20 godina ostvarilo prosječan godišnji rast od oko 9%, što je više od štednje, dionica ili nekretnina."
          ],
          [
           "- **Tajnost:** Ne postoji registar vlasnika, pa je kupnja diskretna."
          ],
          [
           "## 5 ključnih koraka za ulaganje u zlato"
          ],
          [
           "### 2. Pravilno odaberi partnera za kupnju"
          ],
          [
           "- Usporedi cijene kod više distributera i provjeri postoje li skriveni troškovi."
          ],
          [
           "### 4. Nemoj ulagati pod pritiskom"
          ],
          [
           "### 5. Učini ulaganje sigurnim"
          ],
          [
           "## Gdje kupiti zlato u Hrvatskoj?"
          ],
          [
           "## Zaključak"
          ],
          [
           "# Investiranje kao dugoročno isplativa alternativa štednji"
          ],
          [
           "- **Štednja**: Odlaganje novca radi sigurnosti, niskog rizika i brze dostupnosti. Najčešće se odnosi na štednju u banci, s malim povratom."
          ],
          [
           "- **Investiranje**: Cilj je ostvariti veći prinos kroz različite vrste ulaganja (dionice, obveznice, fondovi, nekretnine, kriptovalute, zlato). Nositelj je većeg rizika, ali i mogućnosti većeg povrata. Dugoročno investiranje čuva vrijednost novca od inflacije."
          ],
          [
           "## Financijska pismenost"
          ],
          [
           "## Kada i kako početi investirati?"
          ],
          [
           "## Investicijski pristupi"
          ],
          [
           "## Proces investiranja"
          ],
          [
           "## Analiza ulaganja"
          ],
          [
           "## Vrste investicija"
          ],
          [
           "## Rizici i diverzifikacija"
          ],
          [
           "## Stanje u Hrvatskoj"
          ],
          [
           "## Ključne poruke"
          ],
          [
           "Investicijski fondovi - edukativni sazetak"
          ],
          [
           "- Namijenjeni sirokom krugu ulagatelja."
          ],
          [
           "- Siri spektar ulaganja, ukljucujuci rizicnije instrumente."
          ],
          [
           "profesionalnim i kvalificiranim ulagateljima."
          ],
          [
           "- Sve dokumente pronaci na internetskim stranicama fonda ili Hanfe."
          ],
          [
           "prelazi na sud."
          ],
          [
           "- Zatvoreni: udjele ne mozes otkupiti izravno iz imovine fonda."
          ],
          [
           "Dodatne informacije"
          ],
          [
           "Prakticna financijska pismenost i osnove ulaganja"
          ],
          [
           "financijsko ponasanje."
          ],
          [
           "odluka."
          ],
          [
           "4. Donosenje informiranih financijskih odluka"
          ],
          [
           "analiziraj iskustvo nakon kupnje."
          ],
          [
           "6. Stednja i ulaganje"
          ],
          [
           "- Stednja je sigurna, ali ne stiti uvijek od inflacije. Ulaganje moze donijeti veci prinos, ali i veci rizik."
          ],
          [
           "- Redovito prati svoja ulaganja i uci iz iskustva."
          ],
          [
           "# Osnovni pojmovi ulaganja"
          ],
          [
           "# Razlika između štednje i ulaganja"
          ],
          [
           "Štednja znači izdvajanje novca radi sigurnosti, najčešće u banci, s minimalnim rizikom i niskom kamatom.  "
          ],
          [
           "# Vrste investicija"
          ],
          [
           "## Obveznice  "
          ],
          [
           "## Dionice  "
          ],
          [
           "## ETF-ovi (Exchange Traded Funds)  "
          ],
          [
           "UCITS fondovi su profesionalno vođeni fondovi različitih strategija (aktivni i pasivni)."
          ],
          [
           "## Nekretnine  "
          ],
          [
           "## Kriptovalute  "
          ],
          [
           "## Zlato  "
          ],
          [
           "# Diversifikacija"
          ],
          [
           "Investicijska strategija je plan koji uključuje ciljeve ulaganja, toleranciju na rizik i vremenski horizont.  "
          ],
          [
           "3. Razmisli o vremenskom okviru ulaganja  "
          ],
          [
           "# Mirovinski fondovi u Hrvatskoj"
          ],
          [
           "- Prvi stup: međugeneracijska solidarnost (15% bruto plaće)"
          ],
          [
           "# Početnički savjeti"
          ],
          [
           "- Počni s malim iznosima, dugoročno ulaganje nosi najveće prednosti (efekt ukamaćivanja)"
          ],
          [
           "- Ne ulaži novac koji ti je hitno potreban"
          ],
          [
           "# Rizici ulaganja"
          ],
          [
           "- Tržišni rizik: vrijednost investicija može rasti ili padati"
          ],
          [
           "- Regulacija i porezi: pravila se mogu mijenjati"
          ],
          [
           "# Psihologija ulaganja"
          ],
          [
           "# Traženje savjeta"
          ],
          [
           "# Zaključak"
          ],
          [
           "# Uvod: U što ulažu bogati, a siromašni i srednja klasa ne?"
          ],
          [
           "# Pravilo 90/10"
          ],
          [
           "Bogatstvo nije samo u količini novca, nego u načinu razmišljanja i pristupu financijama:"
          ],
          [
           "- Bogati koriste dug kao alat, dok većina izbjegava dug."
          ],
          [
           "# Kontrole investitora"
          ],
          [
           "Investiranje nije rizično samo po sebi – rizično je ako nemaš znanje i kontrolu. Kiyosaki ističe 10 kontrola investitora, koje služe da minimiziraš rizik i maksimiziraš dobit (primjerice: samokontrola, znanje, tim, informiranost, planiranje)."
          ],
          [
           "# Mentalna priprema za investiranje"
          ],
          [
           "Kiyosaki razlikuje nekoliko razina investitora:"
          ],
          [
           "- **Sofisticirani investitor** – aktivno stvara i vodi vlastite investicije (biznis, nekretnine…)."
          ],
          [
           "- **Vrhunski investitor** – stvara investicije u koje drugi ulažu."
          ],
          [
           "# Biznis i investiranje"
          ],
          [
           "# Rizici i prilike"
          ],
          [
           "# Porezi i zakoni"
          ],
          [
           "# Psihologija i emocije"
          ],
          [
           "# Osnovna poruka"
          ],
          [
           "# Analiza isplativosti ulaganja"
          ],
          [
           "## Ključni pojmovi"
          ],
          [
           "## Kriteriji za odabir projekata"
          ],
          [
           "# Temeljne metode za ocjenu isplativosti ulaganja"
          ],
          [
           "NPV je razlika sadašnje vrijednosti neto novčanih tokova i investicijskih troškova."
          ],
          [
           "- **Odluka:**  "
          ],
          [
           "## 3. Metoda razdoblja povrata investicije (Payback period)"
          ],
          [
           "## 4. Metoda diskontiranog razdoblja povrata"
          ],
          [
           "## 5. Metoda indeksa profitabilnosti"
          ],
          [
           "## 6. Metoda odnosa koristi i troškova"
          ],
          [
           "## 7. Metoda anuiteta"
          ],
          [
           "- **Ako je projekt vrijedan 62.000 kn i generira godišnje neto tokove od 21.600 kn:**  "
          ],
          [
           "- **Indeks profitabilnosti primjera:**  "
          ],
          [
           "- Procjena isplativosti dvaju projekata na temelju novčanih tokova i diskontne stope (odabrati onaj s većim NPV-om)."
          ],
          [
           "# Trošak kapitala"
          ],
          [
           "Trošak kapitala je ponderirani prosječni trošak svih izvora financiranja (dug, vlastiti kapital, povlaštene dionice)."
          ],
          [
           "- **Trošak duga:**  "
          ],
          [
           "# Dodana ekonomska vrijednost (EVA)"
          ],
          [
           "# Kako prepoznati i izbjeći financijske prijevare"
          ],
          [
           "Financijske prijevare su stare koliko i novac. S razvojem tržišta i tehnologije, prijevare postaju sve sofisticiranije. Povijesno su poznate Ponzi sheme, “kralj financijskih iluzija” Charles Ponzi, Bernie Madoff i moderne piramidalne igre poput"
          ],
          [
           "Madoff i moderne piramidalne igre poput OneCoina. U novije vrijeme, digitalizacija i kriptovalute omogućuju nove vrste prijevara."
          ],
          [
           "## Najpoznatije prijevare i online prijetnje"
          ],
          [
           "- **Ponzi shema:** obećava visoke i brze povrate, koristi novac novih ulagača za isplatu starima. Najpoznatiji su Charles Ponzi i Bernie Madoff."
          ],
          [
           "- **Online prijevare:** ponude za ulaganje s nepoznatih brojeva, sumnjivi oglasi i “brokeri” koji nude veliku zaradu. Ako ponuda zvuči predobro da bi bila istinita – vjerojatno je prijevara."
          ],
          [
           "- **Malware, vishing i phishing:** štetni linkovi, lažni telefonski pozivi i mailovi, krađa osobnih podataka."
          ],
          [
           "## Tipični znakovi prijevare"
          ],
          [
           "- Ponuda visokog, brzog i sigurnog povrata"
          ],
          [
           "- Društva registrirana na egzotičnim destinacijama (npr. Sejšeli, Vanuatu)"
          ],
          [
           "## Kako se zaštititi?"
          ],
          [
           "1. **Edukacija:** upoznaj se s najčešćim oblicima prijevara."
          ],
          [
           "3. **Ne dijeli povjerljive podatke:** nikada ne otkrivaj osobne podatke, PIN-ove i lozinke nepoznatim osobama."
          ],
          [
           "5. **Pazi na investicijska društva izvan EU:** naročito s egzotičnih otoka, gdje je nadzor slab."
          ],
          [
           "## Posebno o kriptotržištu i kriptovalutama"
          ],
          [
           "- Kriptovalute nisu pod nadzorom središnjih banaka."
          ],
          [
           "- Česte su lažne stranice i aplikacije koje oponašaju mjenjačnice, fondove i novčanike."
          ],
          [
           "## Nova regulativa (MiCA)"
          ],
          [
           "- Od 2024/2025. uvodi se stroža regulacija EU za kriptoimovinu radi zaštite ulagača."
          ],
          [
           "- Samo ovlašteni pružatelji usluga virtualne imovine mogu legalno nuditi usluge građanima RH."
          ],
          [
           "## Što ako postaneš žrtva prijevare?"
          ],
          [
           "- Prekini svaki kontakt s prevarantom."
          ],
          [
           "## Najvažnije poruke za zaštitu"
          ],
          [
           "- Ne postoji laka i sigurna zarada."
          ],
          [
           "IZVOR: “Kako zaštititi svoj novac? – HANFA vodič o financijskim prijevarama”, 2024."
          ],
          [
           "# 5 koraka za uspješno ulaganje u zlato"
          ],
          [
           "Zlato je tisućljećima simbol bogatstva i sigurnosti. Danas se ne koristi kao novac, ali je i dalje popularna investicija zbog otpornosti na inflaciju i dugoročnog rasta vrijednosti. U Hrvatskoj je ulaganje u zlato postalo još povoljnije od ukidanja"
          ],
          [
           "postalo još povoljnije od ukidanja PDV-a na investicijsko zlato 2013. godine."
          ],
          [
           "## Prednosti ulaganja u zlato"
          ],
          [
           "- **Rast vrijednosti:** Zlato je u zadnjih 20 godina ostvarilo prosječan godišnji rast od oko 9%, što je više od štednje, dionica ili nekretnina."
          ],
          [
           "- **Visoka likvidnost:** Zlato se lako prodaje ili mijenja za novac gotovo bilo gdje u svijetu."
          ],
          [
           "## 5 ključnih koraka za ulaganje u zlato"
          ],
          [
           "- Najsigurnije je ulagati u fizičko zlato (poluge, zlatnici) koje stvarno prelazi u tvoje vlasništvo."
          ],
          [
           "- Prije kupnje postavi pitanja: Jesam li stvarni vlasnik? Mogu li zlato skladištiti kako želim? Odgovara li proizvod mojim potrebama?"
          ],
          [
           "### 2. Pravilno odaberi partnera za kupnju"
          ],
          [
           "- Kupi zlato od ovlaštenih distributera poznatih talionica (npr. Münze Österreich, Argor-Heraeus)."
          ],
          [
           "- Odgovori na pitanja: Je li distributer pouzdan? Dobivam li proizvod u razumnom roku? Jesu li klijenti zadovoljni?"
          ],
          [
           "### 3. Informiraj se o cijenama i troškovima"
          ],
          [
           "- Usporedi cijene kod više distributera i provjeri postoje li skriveni troškovi."
          ],
          [
           "### 4. Nemoj ulagati pod pritiskom"
          ],
          [
           "### 5. Učini ulaganje sigurnim"
          ],
          [
           "- Provjeri proizvod, distributera i uvjete isporuke/skladištenja."
          ],
          [
           "## Gdje kupiti zlato u Hrvatskoj?"
          ],
          [
           "Nakon ulaska Hrvatske u EU pojavilo se više distributera zlata. Najvažnije je izabrati pouzdanu i transparentnu tvrtku s dobrim recenzijama, brzim isporukama i jamstvima kvalitete. BankaZlata.com i slični ovlašteni distributeri nude veliki"
          ],
          [
           "ovlašteni distributeri nude veliki asortiman, besplatno skladištenje i stručnu podršku."
          ],
          [
           "## Zaključak"
          ],
          [
           "IZVOR: “5 koraka za uspješno ulaganje u zlato”, Centar Zlata"
          ],
          [
           "# Investiranje kao dugoročno isplativa alternativa štednji"
          ],
          [
           "## Osnovni pojmovi"
          ],
          [
           "## Razlika između štednje i investiranja"
          ],
          [
           "- **Štednja**: Odlaganje novca radi sigurnosti, niskog rizika i brze dostupnosti. Najčešće se odnosi na štednju u banci, s malim povratom."
          ],
          [
           "- **Investiranje**: Cilj je ostvariti veći prinos kroz različite vrste ulaganja (dionice, obveznice, fondovi, nekretnine, kriptovalute, zlato). Nositelj je većeg rizika, ali i mogućnosti većeg povrata. Dugoročno investiranje čuva vrijednost novca od"
          ],
          [
           "investiranje čuva vrijednost novca od inflacije."
          ],
          [
           "## Financijska pismenost"
          ],
          [
           "Financijska pismenost bitna je za donošenje ispravnih odluka o štednji i ulaganju. Osobe koje bolje razumiju pojmove, instrumente i rizike financijskih tržišta češće i uspješnije investiraju, a manje riskiraju gubitak vrijednosti kroz inflaciju."
          ],
          [
           "## Kada i kako početi investirati?"
          ],
          [
           "- Prvo osiguraj osnovne životne potrebe i financijsku sigurnost."
          ],
          [
           "- Prije svakog ulaganja procijeni koliko si spreman riskirati i na koji vremenski period."
          ],
          [
           "## Investicijski pristupi"
          ],
          [
           "- **Aktivno ulaganje**: Investitor bira pojedinačne vrijednosne papire i stalno prilagođava portfelj, u želji da nadmaši tržište."
          ],
          [
           "- Aktivni pristup traži više znanja i vremena; pasivni je jednostavniji i pogodan za početnike."
          ],
          [
           "## Proces investiranja"
          ],
          [
           "1. Postavi ciljeve (prinos, rizik, likvidnost, vremenski horizont)."
          ],
          [
           "4. Diversificiraj ulaganja (ne stavljaj “sva jaja u istu košaru”)."
          ],
          [
           "## Analiza ulaganja"
          ],
          [
           "- **Fundamentalna analiza**: Ispitivanje financijskih pokazatelja, poslovanja i okruženja tvrtke/fonda u koji ulažeš."
          ],
          [
           "- Praktične informacije često dolaze i iz medija, portala, društvenih mreža."
          ],
          [
           "## Vrste investicija"
          ],
          [
           "- Uvijek postoji rizik od gubitka (tržišni, kreditni, likvidnosni, inflacijski)."
          ],
          [
           "## Stanje u Hrvatskoj"
          ],
          [
           "Većina građana sklonija je štednji nego ulaganju, zbog niske financijske pismenosti i percepcije ulaganja kao previše rizičnog. Međutim, dugoročno gledano, štednja u banci često ne može nadoknaditi gubitak vrijednosti zbog inflacije."
          ],
          [
           "## Ključne poruke"
          ],
          [
           "IZVOR: “Investiranje kao dugoročno isplativa alternativna metoda štednje”, Ivan Mavrek, FOI, 2023."
          ],
          [
           "Investicijski fondovi - edukativni sazetak"
          ],
          [
           "ostalim ulagateljima. Prikupljeni novac drustvo za upravljanje ulaze prema unaprijed odredjenoj"
          ],
          [
           "- Namijenjeni sirokom krugu ulagatelja."
          ],
          [
           "AIF fondovi (alternativni investicijski fondovi)"
          ],
          [
           "- Slabije regulirani, namijenjeni iskusnijim ulagateljima."
          ],
          [
           "- AIF fondovi su slabije regulirani, nude veci raspon ulaganja, ali su namijenjeni samo"
          ],
          [
           "profesionalnim i kvalificiranim ulagateljima."
          ],
          [
           "- Procitati KIID (kljucni podaci za ulagatelje) koji sazima glavne karakteristike fonda."
          ],
          [
           "Zastita ulagatelja"
          ],
          [
           "- Postoji mogucnost izvansudskog rjesavanja sporova, a ako to nije moguce, rjesavanje sporova"
          ],
          [
           "- Mjesoviti fondovi: kombinacija dionica i obveznica, umjeren rizik."
          ],
          [
           "- Zatvoreni: udjele ne mozes otkupiti izravno iz imovine fonda."
          ],
          [
           "Dodatne informacije"
          ],
          [
           "Prakticna financijska pismenost i osnove ulaganja"
          ],
          [
           "ispravnih financijskih odluka i financijsko blagostanje."
          ],
          [
           "2. Potrebe vs. Zelje"
          ],
          [
           "- Razlikovanje potreba i zelja kljucno je za mudro upravljanje novcem i donosenje financijskih"
          ],
          [
           "- Konzumerizam je drustveni stav prema kojem sreca ovisi o stalnom kupovanju i posjedovanju"
          ],
          [
           "racuna o ekoloskim i etickim aspektima potrosnje."
          ],
          [
           "- Koraci kod donosenja odluka o kupnji: prepoznaj potrebu, istrazi opcije, procijeni mogucnosti, kupi,"
          ],
          [
           "analiziraj iskustvo nakon kupnje."
          ],
          [
           "- Prati prihode i izdatke, odredi prioritete, izdvajaj dio za stednju i ulaganje."
          ],
          [
           "6. Stednja i ulaganje"
          ],
          [
           "kroz vrijeme (dionice, obveznice, fondovi, nekretnine, kripto)."
          ],
          [
           "- Vazno je imati cilj, informirati se o rizicima i mogucnostima, te diversificirati ulaganja."
          ],
          [
           "- Uvijek informiraj se o svim troskovima i rizicima prije ulaganja."
          ],
          [
           "- Informacije trazi na sluzbenim portalima (npr. Hanfa, HNB, Stedopis)."
          ],
          [
           "# Osnovni pojmovi ulaganja"
          ],
          [
           "# Razlika između štednje i ulaganja"
          ],
          [
           "Štednja znači izdvajanje novca radi sigurnosti, najčešće u banci, s minimalnim rizikom i niskom kamatom.  "
          ],
          [
           "# Vrste investicija"
          ],
          [
           "## Obveznice  "
          ],
          [
           "## Dionice  "
          ],
          [
           "## ETF-ovi (Exchange Traded Funds)  "
          ],
          [
           "UCITS fondovi su profesionalno vođeni fondovi različitih strategija (aktivni i pasivni)."
          ],
          [
           "## Nekretnine  "
          ],
          [
           "## Kriptovalute  "
          ],
          [
           "## Zlato  "
          ],
          [
           "# Diversifikacija"
          ],
          [
           "Investicijska strategija je plan koji uključuje ciljeve ulaganja, toleranciju na rizik i vremenski horizont.  "
          ],
          [
           "3. Razmisli o vremenskom okviru ulaganja  "
          ],
          [
           "# Mirovinski fondovi u Hrvatskoj"
          ],
          [
           "- Prvi stup: međugeneracijska solidarnost (15% bruto plaće)"
          ],
          [
           "# Početnički savjeti"
          ],
          [
           "- Počni s malim iznosima, dugoročno ulaganje nosi najveće prednosti (efekt ukamaćivanja)"
          ],
          [
           "- Ne ulaži novac koji ti je hitno potreban"
          ],
          [
           "# Rizici ulaganja"
          ],
          [
           "- Tržišni rizik: vrijednost investicija može rasti ili padati"
          ],
          [
           "- Regulacija i porezi: pravila se mogu mijenjati"
          ],
          [
           "# Psihologija ulaganja"
          ],
          [
           "# Traženje savjeta"
          ],
          [
           "# Zaključak"
          ],
          [
           "# Uvod: U što ulažu bogati, a siromašni i srednja klasa ne?"
          ],
          [
           "# Pravilo 90/10"
          ],
          [
           "Bogatstvo nije samo u količini novca, nego u načinu razmišljanja i pristupu financijama:"
          ],
          [
           "- Bogati koriste dug kao alat, dok većina izbjegava dug."
          ],
          [
           "# Kontrole investitora"
          ],
          [
           "Investiranje nije rizično samo po sebi – rizično je ako nemaš znanje i kontrolu. Kiyosaki ističe 10 kontrola investitora, koje služe da minimiziraš rizik i maksimiziraš dobit (primjerice: samokontrola, znanje, tim, informiranost, planiranje)."
          ],
          [
           "# Mentalna priprema za investiranje"
          ],
          [
           "Kiyosaki razlikuje nekoliko razina investitora:"
          ],
          [
           "- **Sofisticirani investitor** – aktivno stvara i vodi vlastite investicije (biznis, nekretnine…)."
          ],
          [
           "- **Vrhunski investitor** – stvara investicije u koje drugi ulažu."
          ],
          [
           "# Biznis i investiranje"
          ],
          [
           "# Rizici i prilike"
          ],
          [
           "# Porezi i zakoni"
          ],
          [
           "# Psihologija i emocije"
          ],
          [
           "# Osnovna poruka"
          ],
          [
           "# Analiza isplativosti ulaganja"
          ],
          [
           "## Ključni pojmovi"
          ],
          [
           "## Kriteriji za odabir projekata"
          ],
          [
           "# Temeljne metode za ocjenu isplativosti ulaganja"
          ],
          [
           "NPV je razlika sadašnje vrijednosti neto novčanih tokova i investicijskih troškova."
          ],
          [
           "- **Odluka:**  "
          ],
          [
           "## 3. Metoda razdoblja povrata investicije (Payback period)"
          ],
          [
           "## 4. Metoda diskontiranog razdoblja povrata"
          ],
          [
           "## 5. Metoda indeksa profitabilnosti"
          ],
          [
           "## 6. Metoda odnosa koristi i troškova"
          ],
          [
           "## 7. Metoda anuiteta"
          ],
          [
           "- **Ako je projekt vrijedan 62.000 kn i generira godišnje neto tokove od 21.600 kn:**  "
          ],
          [
           "- **Indeks profitabilnosti primjera:**  "
          ],
          [
           "- Procjena isplativosti dvaju projekata na temelju novčanih tokova i diskontne stope (odabrati onaj s većim NPV-om)."
          ],
          [
           "# Trošak kapitala"
          ],
          [
           "Trošak kapitala je ponderirani prosječni trošak svih izvora financiranja (dug, vlastiti kapital, povlaštene dionice)."
          ],
          [
           "- **Trošak duga:**  "
          ],
          [
           "# Dodana ekonomska vrijednost (EVA)"
          ],
          [
           "# Kako prepoznati i izbjeći financijske prijevare"
          ],
          [
           "Financijske prijevare su stare koliko i novac. S razvojem tržišta i tehnologije, prijevare postaju sve sofisticiranije. Povijesno su poznate Ponzi sheme, “kralj financijskih iluzija” Charles Ponzi, Bernie Madoff i moderne piramidalne igre poput"
          ],
          [
           "Madoff i moderne piramidalne igre poput OneCoina. U novije vrijeme, digitalizacija i kriptovalute omogućuju nove vrste prijevara."
          ],
          [
           "## Najpoznatije prijevare i online prijetnje"
          ],
          [
           "- **Ponzi shema:** obećava visoke i brze povrate, koristi novac novih ulagača za isplatu starima. Najpoznatiji su Charles Ponzi i Bernie Madoff."
          ],
          [
           "- **Online prijevare:** ponude za ulaganje s nepoznatih brojeva, sumnjivi oglasi i “brokeri” koji nude veliku zaradu. Ako ponuda zvuči predobro da bi bila istinita – vjerojatno je prijevara."
          ],
          [
           "- **Malware, vishing i phishing:** štetni linkovi, lažni telefonski pozivi i mailovi, krađa osobnih podataka."
          ],
          [
           "## Tipični znakovi prijevare"
          ],
          [
           "- Ponuda visokog, brzog i sigurnog povrata"
          ],
          [
           "- Društva registrirana na egzotičnim destinacijama (npr. Sejšeli, Vanuatu)"
          ],
          [
           "## Kako se zaštititi?"
          ],
          [
           "1. **Edukacija:** upoznaj se s najčešćim oblicima prijevara."
          ],
          [
           "3. **Ne dijeli povjerljive podatke:** nikada ne otkrivaj osobne podatke, PIN-ove i lozinke nepoznatim osobama."
          ],
          [
           "5. **Pazi na investicijska društva izvan EU:** naročito s egzotičnih otoka, gdje je nadzor slab."
          ],
          [
           "## Posebno o kriptotržištu i kriptovalutama"
          ],
          [
           "- Kriptovalute nisu pod nadzorom središnjih banaka."
          ],
          [
           "- Česte su lažne stranice i aplikacije koje oponašaju mjenjačnice, fondove i novčanike."
          ],
          [
           "## Nova regulativa (MiCA)"
          ],
          [
           "- Od 2024/2025. uvodi se stroža regulacija EU za kriptoimovinu radi zaštite ulagača."
          ],
          [
           "- Samo ovlašteni pružatelji usluga virtualne imovine mogu legalno nuditi usluge građanima RH."
          ],
          [
           "## Što ako postaneš žrtva prijevare?"
          ],
          [
           "- Prekini svaki kontakt s prevarantom."
          ],
          [
           "## Najvažnije poruke za zaštitu"
          ],
          [
           "- Ne postoji laka i sigurna zarada."
          ],
          [
           "IZVOR: “Kako zaštititi svoj novac? – HANFA vodič o financijskim prijevarama”, 2024."
          ],
          [
           "# 5 koraka za uspješno ulaganje u zlato"
          ],
          [
           "Zlato je tisućljećima simbol bogatstva i sigurnosti. Danas se ne koristi kao novac, ali je i dalje popularna investicija zbog otpornosti na inflaciju i dugoročnog rasta vrijednosti. U Hrvatskoj je ulaganje u zlato postalo još povoljnije od ukidanja"
          ],
          [
           "postalo još povoljnije od ukidanja PDV-a na investicijsko zlato 2013. godine."
          ],
          [
           "## Prednosti ulaganja u zlato"
          ],
          [
           "- **Rast vrijednosti:** Zlato je u zadnjih 20 godina ostvarilo prosječan godišnji rast od oko 9%, što je više od štednje, dionica ili nekretnina."
          ],
          [
           "- **Visoka likvidnost:** Zlato se lako prodaje ili mijenja za novac gotovo bilo gdje u svijetu."
          ],
          [
           "## 5 ključnih koraka za ulaganje u zlato"
          ],
          [
           "- Najsigurnije je ulagati u fizičko zlato (poluge, zlatnici) koje stvarno prelazi u tvoje vlasništvo."
          ],
          [
           "- Prije kupnje postavi pitanja: Jesam li stvarni vlasnik? Mogu li zlato skladištiti kako želim? Odgovara li proizvod mojim potrebama?"
          ],
          [
           "### 2. Pravilno odaberi partnera za kupnju"
          ],
          [
           "- Kupi zlato od ovlaštenih distributera poznatih talionica (npr. Münze Österreich, Argor-Heraeus)."
          ],
          [
           "- Odgovori na pitanja: Je li distributer pouzdan? Dobivam li proizvod u razumnom roku? Jesu li klijenti zadovoljni?"
          ],
          [
           "### 3. Informiraj se o cijenama i troškovima"
          ],
          [
           "- Usporedi cijene kod više distributera i provjeri postoje li skriveni troškovi."
          ],
          [
           "### 4. Nemoj ulagati pod pritiskom"
          ],
          [
           "### 5. Učini ulaganje sigurnim"
          ],
          [
           "- Provjeri proizvod, distributera i uvjete isporuke/skladištenja."
          ],
          [
           "## Gdje kupiti zlato u Hrvatskoj?"
          ],
          [
           "Nakon ulaska Hrvatske u EU pojavilo se više distributera zlata. Najvažnije je izabrati pouzdanu i transparentnu tvrtku s dobrim recenzijama, brzim isporukama i jamstvima kvalitete. BankaZlata.com i slični ovlašteni distributeri nude veliki"
          ],
          [
           "ovlašteni distributeri nude veliki asortiman, besplatno skladištenje i stručnu podršku."
          ],
          [
           "## Zaključak"
          ],
          [
           "IZVOR: “5 koraka za uspješno ulaganje u zlato”, Centar Zlata"
          ],
          [
           "# Investiranje kao dugoročno isplativa alternativa štednji"
          ],
          [
           "## Osnovni pojmovi"
          ],
          [
           "## Razlika između štednje i investiranja"
          ],
          [
           "- **Štednja**: Odlaganje novca radi sigurnosti, niskog rizika i brze dostupnosti. Najčešće se odnosi na štednju u banci, s malim povratom."
          ],
          [
           "- **Investiranje**: Cilj je ostvariti veći prinos kroz različite vrste ulaganja (dionice, obveznice, fondovi, nekretnine, kriptovalute, zlato). Nositelj je većeg rizika, ali i mogućnosti većeg povrata. Dugoročno investiranje čuva vrijednost novca od"
          ],
          [
           "investiranje čuva vrijednost novca od inflacije."
          ],
          [
           "## Financijska pismenost"
          ],
          [
           "Financijska pismenost bitna je za donošenje ispravnih odluka o štednji i ulaganju. Osobe koje bolje razumiju pojmove, instrumente i rizike financijskih tržišta češće i uspješnije investiraju, a manje riskiraju gubitak vrijednosti kroz inflaciju."
          ],
          [
           "## Kada i kako početi investirati?"
          ],
          [
           "- Prvo osiguraj osnovne životne potrebe i financijsku sigurnost."
          ],
          [
           "- Prije svakog ulaganja procijeni koliko si spreman riskirati i na koji vremenski period."
          ],
          [
           "## Investicijski pristupi"
          ],
          [
           "- **Aktivno ulaganje**: Investitor bira pojedinačne vrijednosne papire i stalno prilagođava portfelj, u želji da nadmaši tržište."
          ],
          [
           "- Aktivni pristup traži više znanja i vremena; pasivni je jednostavniji i pogodan za početnike."
          ],
          [
           "## Proces investiranja"
          ],
          [
           "1. Postavi ciljeve (prinos, rizik, likvidnost, vremenski horizont)."
          ],
          [
           "4. Diversificiraj ulaganja (ne stavljaj “sva jaja u istu košaru”)."
          ],
          [
           "## Analiza ulaganja"
          ],
          [
           "- **Fundamentalna analiza**: Ispitivanje financijskih pokazatelja, poslovanja i okruženja tvrtke/fonda u koji ulažeš."
          ],
          [
           "- Praktične informacije često dolaze i iz medija, portala, društvenih mreža."
          ],
          [
           "## Vrste investicija"
          ],
          [
           "- Uvijek postoji rizik od gubitka (tržišni, kreditni, likvidnosni, inflacijski)."
          ],
          [
           "## Stanje u Hrvatskoj"
          ],
          [
           "Većina građana sklonija je štednji nego ulaganju, zbog niske financijske pismenosti i percepcije ulaganja kao previše rizičnog. Međutim, dugoročno gledano, štednja u banci često ne može nadoknaditi gubitak vrijednosti zbog inflacije."
          ],
          [
           "## Ključne poruke"
          ],
          [
           "IZVOR: “Investiranje kao dugoročno isplativa alternativna metoda štednje”, Ivan Mavrek, FOI, 2023."
          ],
          [
           "Investicijski fondovi - edukativni sazetak"
          ],
          [
           "ostalim ulagateljima. Prikupljeni novac drustvo za upravljanje ulaze prema unaprijed odredjenoj"
          ],
          [
           "- Namijenjeni sirokom krugu ulagatelja."
          ],
          [
           "AIF fondovi (alternativni investicijski fondovi)"
          ],
          [
           "- Slabije regulirani, namijenjeni iskusnijim ulagateljima."
          ],
          [
           "- AIF fondovi su slabije regulirani, nude veci raspon ulaganja, ali su namijenjeni samo"
          ],
          [
           "profesionalnim i kvalificiranim ulagateljima."
          ],
          [
           "- Procitati KIID (kljucni podaci za ulagatelje) koji sazima glavne karakteristike fonda."
          ],
          [
           "Zastita ulagatelja"
          ],
          [
           "- Postoji mogucnost izvansudskog rjesavanja sporova, a ako to nije moguce, rjesavanje sporova"
          ],
          [
           "- Mjesoviti fondovi: kombinacija dionica i obveznica, umjeren rizik."
          ],
          [
           "- Zatvoreni: udjele ne mozes otkupiti izravno iz imovine fonda."
          ],
          [
           "Dodatne informacije"
          ],
          [
           "Prakticna financijska pismenost i osnove ulaganja"
          ],
          [
           "ispravnih financijskih odluka i financijsko blagostanje."
          ],
          [
           "2. Potrebe vs. Zelje"
          ],
          [
           "- Razlikovanje potreba i zelja kljucno je za mudro upravljanje novcem i donosenje financijskih"
          ],
          [
           "- Konzumerizam je drustveni stav prema kojem sreca ovisi o stalnom kupovanju i posjedovanju"
          ],
          [
           "racuna o ekoloskim i etickim aspektima potrosnje."
          ],
          [
           "- Koraci kod donosenja odluka o kupnji: prepoznaj potrebu, istrazi opcije, procijeni mogucnosti, kupi,"
          ],
          [
           "analiziraj iskustvo nakon kupnje."
          ],
          [
           "- Prati prihode i izdatke, odredi prioritete, izdvajaj dio za stednju i ulaganje."
          ],
          [
           "6. Stednja i ulaganje"
          ],
          [
           "kroz vrijeme (dionice, obveznice, fondovi, nekretnine, kripto)."
          ],
          [
           "- Vazno je imati cilj, informirati se o rizicima i mogucnostima, te diversificirati ulaganja."
          ],
          [
           "- Uvijek informiraj se o svim troskovima i rizicima prije ulaganja."
          ],
          [
           "- Informacije trazi na sluzbenim portalima (npr. Hanfa, HNB, Stedopis)."
          ],
          [
           "# Osnovni pojmovi ulaganja"
          ],
          [
           "# Razlika između štednje i ulaganja"
          ],
          [
           "Štednja znači izdvajanje novca radi sigurnosti, najčešće u banci, s minimalnim rizikom i niskom kamatom.  "
          ],
          [
           "# Vrste investicija"
          ],
          [
           "## Obveznice  "
          ],
          [
           "## Dionice  "
          ],
          [
           "## ETF-ovi (Exchange Traded Funds)  "
          ],
          [
           "UCITS fondovi su profesionalno vođeni fondovi različitih strategija (aktivni i pasivni)."
          ],
          [
           "## Nekretnine  "
          ],
          [
           "## Kriptovalute  "
          ],
          [
           "## Zlato  "
          ],
          [
           "# Diversifikacija"
          ],
          [
           "Investicijska strategija je plan koji uključuje ciljeve ulaganja, toleranciju na rizik i vremenski horizont.  "
          ],
          [
           "3. Razmisli o vremenskom okviru ulaganja  "
          ],
          [
           "# Mirovinski fondovi u Hrvatskoj"
          ],
          [
           "- Prvi stup: međugeneracijska solidarnost (15% bruto plaće)"
          ],
          [
           "# Početnički savjeti"
          ],
          [
           "- Počni s malim iznosima, dugoročno ulaganje nosi najveće prednosti (efekt ukamaćivanja)"
          ],
          [
           "- Ne ulaži novac koji ti je hitno potreban"
          ],
          [
           "# Rizici ulaganja"
          ],
          [
           "- Tržišni rizik: vrijednost investicija može rasti ili padati"
          ],
          [
           "- Regulacija i porezi: pravila se mogu mijenjati"
          ],
          [
           "# Psihologija ulaganja"
          ],
          [
           "# Traženje savjeta"
          ],
          [
           "# Zaključak"
          ],
          [
           "# Uvod: U što ulažu bogati, a siromašni i srednja klasa ne?"
          ],
          [
           "# Pravilo 90/10"
          ],
          [
           "Bogatstvo nije samo u količini novca, nego u načinu razmišljanja i pristupu financijama:"
          ],
          [
           "- Bogati koriste dug kao alat, dok većina izbjegava dug."
          ],
          [
           "# Kontrole investitora"
          ],
          [
           "Investiranje nije rizično samo po sebi – rizično je ako nemaš znanje i kontrolu. Kiyosaki ističe 10 kontrola investitora, koje služe da minimiziraš rizik i maksimiziraš dobit (primjerice: samokontrola, znanje, tim, informiranost, planiranje)."
          ],
          [
           "# Mentalna priprema za investiranje"
          ],
          [
           "Kiyosaki razlikuje nekoliko razina investitora:"
          ],
          [
           "- **Sofisticirani investitor** – aktivno stvara i vodi vlastite investicije (biznis, nekretnine…)."
          ],
          [
           "- **Vrhunski investitor** – stvara investicije u koje drugi ulažu."
          ],
          [
           "# Biznis i investiranje"
          ],
          [
           "# Rizici i prilike"
          ],
          [
           "# Porezi i zakoni"
          ],
          [
           "# Psihologija i emocije"
          ],
          [
           "# Osnovna poruka"
          ],
          [
           "# Analiza isplativosti ulaganja"
          ],
          [
           "## Ključni pojmovi"
          ],
          [
           "## Kriteriji za odabir projekata"
          ],
          [
           "# Temeljne metode za ocjenu isplativosti ulaganja"
          ],
          [
           "NPV je razlika sadašnje vrijednosti neto novčanih tokova i investicijskih troškova."
          ],
          [
           "- **Odluka:**  "
          ],
          [
           "## 3. Metoda razdoblja povrata investicije (Payback period)"
          ],
          [
           "## 4. Metoda diskontiranog razdoblja povrata"
          ],
          [
           "## 5. Metoda indeksa profitabilnosti"
          ],
          [
           "## 6. Metoda odnosa koristi i troškova"
          ],
          [
           "## 7. Metoda anuiteta"
          ],
          [
           "- **Ako je projekt vrijedan 62.000 kn i generira godišnje neto tokove od 21.600 kn:**  "
          ],
          [
           "- **Indeks profitabilnosti primjera:**  "
          ],
          [
           "- Procjena isplativosti dvaju projekata na temelju novčanih tokova i diskontne stope (odabrati onaj s većim NPV-om)."
          ],
          [
           "# Trošak kapitala"
          ],
          [
           "Trošak kapitala je ponderirani prosječni trošak svih izvora financiranja (dug, vlastiti kapital, povlaštene dionice)."
          ],
          [
           "- **Trošak duga:**  "
          ],
          [
           "# Dodana ekonomska vrijednost (EVA)"
          ],
          [
           "# Kako prepoznati i izbjeći financijske prijevare"
          ],
          [
           "Financijske prijevare su stare koliko i novac. S razvojem tržišta i tehnologije, prijevare postaju sve sofisticiranije. Povijesno su poznate Ponzi sheme, “kralj financijskih iluzija” Charles Ponzi, Bernie Madoff i moderne piramidalne igre poput"
          ],
          [
           "Madoff i moderne piramidalne igre poput OneCoina. U novije vrijeme, digitalizacija i kriptovalute omogućuju nove vrste prijevara."
          ],
          [
           "## Najpoznatije prijevare i online prijetnje"
          ],
          [
           "- **Ponzi shema:** obećava visoke i brze povrate, koristi novac novih ulagača za isplatu starima. Najpoznatiji su Charles Ponzi i Bernie Madoff."
          ],
          [
           "- **Online prijevare:** ponude za ulaganje s nepoznatih brojeva, sumnjivi oglasi i “brokeri” koji nude veliku zaradu. Ako ponuda zvuči predobro da bi bila istinita – vjerojatno je prijevara."
          ],
          [
           "- **Malware, vishing i phishing:** štetni linkovi, lažni telefonski pozivi i mailovi, krađa osobnih podataka."
          ],
          [
           "## Tipični znakovi prijevare"
          ],
          [
           "- Ponuda visokog, brzog i sigurnog povrata"
          ],
          [
           "- Društva registrirana na egzotičnim destinacijama (npr. Sejšeli, Vanuatu)"
          ],
          [
           "## Kako se zaštititi?"
          ],
          [
           "1. **Edukacija:** upoznaj se s najčešćim oblicima prijevara."
          ],
          [
           "3. **Ne dijeli povjerljive podatke:** nikada ne otkrivaj osobne podatke, PIN-ove i lozinke nepoznatim osobama."
          ],
          [
           "5. **Pazi na investicijska društva izvan EU:** naročito s egzotičnih otoka, gdje je nadzor slab."
          ],
          [
           "## Posebno o kriptotržištu i kriptovalutama"
          ],
          [
           "- Kriptovalute nisu pod nadzorom središnjih banaka."
          ],
          [
           "- Česte su lažne stranice i aplikacije koje oponašaju mjenjačnice, fondove i novčanike."
          ],
          [
           "## Nova regulativa (MiCA)"
          ],
          [
           "- Od 2024/2025. uvodi se stroža regulacija EU za kriptoimovinu radi zaštite ulagača."
          ],
          [
           "- Samo ovlašteni pružatelji usluga virtualne imovine mogu legalno nuditi usluge građanima RH."
          ],
          [
           "## Što ako postaneš žrtva prijevare?"
          ],
          [
           "- Prekini svaki kontakt s prevarantom."
          ],
          [
           "## Najvažnije poruke za zaštitu"
          ],
          [
           "- Ne postoji laka i sigurna zarada."
          ],
          [
           "IZVOR: “Kako zaštititi svoj novac? – HANFA vodič o financijskim prijevarama”, 2024."
          ],
          [
           "# 5 koraka za uspješno ulaganje u zlato"
          ],
          [
           "Zlato je tisućljećima simbol bogatstva i sigurnosti. Danas se ne koristi kao novac, ali je i dalje popularna investicija zbog otpornosti na inflaciju i dugoročnog rasta vrijednosti. U Hrvatskoj je ulaganje u zlato postalo još povoljnije od ukidanja"
          ],
          [
           "postalo još povoljnije od ukidanja PDV-a na investicijsko zlato 2013. godine."
          ],
          [
           "## Prednosti ulaganja u zlato"
          ],
          [
           "- **Rast vrijednosti:** Zlato je u zadnjih 20 godina ostvarilo prosječan godišnji rast od oko 9%, što je više od štednje, dionica ili nekretnina."
          ],
          [
           "- **Visoka likvidnost:** Zlato se lako prodaje ili mijenja za novac gotovo bilo gdje u svijetu."
          ],
          [
           "## 5 ključnih koraka za ulaganje u zlato"
          ],
          [
           "- Najsigurnije je ulagati u fizičko zlato (poluge, zlatnici) koje stvarno prelazi u tvoje vlasništvo."
          ],
          [
           "- Prije kupnje postavi pitanja: Jesam li stvarni vlasnik? Mogu li zlato skladištiti kako želim? Odgovara li proizvod mojim potrebama?"
          ],
          [
           "### 2. Pravilno odaberi partnera za kupnju"
          ],
          [
           "- Kupi zlato od ovlaštenih distributera poznatih talionica (npr. Münze Österreich, Argor-Heraeus)."
          ],
          [
           "- Odgovori na pitanja: Je li distributer pouzdan? Dobivam li proizvod u razumnom roku? Jesu li klijenti zadovoljni?"
          ],
          [
           "### 3. Informiraj se o cijenama i troškovima"
          ],
          [
           "- Usporedi cijene kod više distributera i provjeri postoje li skriveni troškovi."
          ],
          [
           "### 4. Nemoj ulagati pod pritiskom"
          ],
          [
           "### 5. Učini ulaganje sigurnim"
          ],
          [
           "- Provjeri proizvod, distributera i uvjete isporuke/skladištenja."
          ],
          [
           "## Gdje kupiti zlato u Hrvatskoj?"
          ],
          [
           "Nakon ulaska Hrvatske u EU pojavilo se više distributera zlata. Najvažnije je izabrati pouzdanu i transparentnu tvrtku s dobrim recenzijama, brzim isporukama i jamstvima kvalitete. BankaZlata.com i slični ovlašteni distributeri nude veliki"
          ],
          [
           "ovlašteni distributeri nude veliki asortiman, besplatno skladištenje i stručnu podršku."
          ],
          [
           "## Zaključak"
          ],
          [
           "IZVOR: “5 koraka za uspješno ulaganje u zlato”, Centar Zlata"
          ],
          [
           "# Investiranje kao dugoročno isplativa alternativa štednji"
          ],
          [
           "## Osnovni pojmovi"
          ],
          [
           "## Razlika između štednje i investiranja"
          ],
          [
           "- **Štednja**: Odlaganje novca radi sigurnosti, niskog rizika i brze dostupnosti. Najčešće se odnosi na štednju u banci, s malim povratom."
          ],
          [
           "- **Investiranje**: Cilj je ostvariti veći prinos kroz različite vrste ulaganja (dionice, obveznice, fondovi, nekretnine, kriptovalute, zlato). Nositelj je većeg rizika, ali i mogućnosti većeg povrata. Dugoročno investiranje čuva vrijednost novca od"
          ],
          [
           "investiranje čuva vrijednost novca od inflacije."
          ],
          [
           "## Financijska pismenost"
          ],
          [
           "Financijska pismenost bitna je za donošenje ispravnih odluka o štednji i ulaganju. Osobe koje bolje razumiju pojmove, instrumente i rizike financijskih tržišta češće i uspješnije investiraju, a manje riskiraju gubitak vrijednosti kroz inflaciju."
          ],
          [
           "## Kada i kako početi investirati?"
          ],
          [
           "- Prvo osiguraj osnovne životne potrebe i financijsku sigurnost."
          ],
          [
           "- Prije svakog ulaganja procijeni koliko si spreman riskirati i na koji vremenski period."
          ],
          [
           "## Investicijski pristupi"
          ],
          [
           "- **Aktivno ulaganje**: Investitor bira pojedinačne vrijednosne papire i stalno prilagođava portfelj, u želji da nadmaši tržište."
          ],
          [
           "- Aktivni pristup traži više znanja i vremena; pasivni je jednostavniji i pogodan za početnike."
          ],
          [
           "## Proces investiranja"
          ],
          [
           "1. Postavi ciljeve (prinos, rizik, likvidnost, vremenski horizont)."
          ],
          [
           "4. Diversificiraj ulaganja (ne stavljaj “sva jaja u istu košaru”)."
          ],
          [
           "## Analiza ulaganja"
          ],
          [
           "- **Fundamentalna analiza**: Ispitivanje financijskih pokazatelja, poslovanja i okruženja tvrtke/fonda u koji ulažeš."
          ],
          [
           "- Praktične informacije često dolaze i iz medija, portala, društvenih mreža."
          ],
          [
           "## Vrste investicija"
          ],
          [
           "- Uvijek postoji rizik od gubitka (tržišni, kreditni, likvidnosni, inflacijski)."
          ],
          [
           "## Stanje u Hrvatskoj"
          ],
          [
           "Većina građana sklonija je štednji nego ulaganju, zbog niske financijske pismenosti i percepcije ulaganja kao previše rizičnog. Međutim, dugoročno gledano, štednja u banci često ne može nadoknaditi gubitak vrijednosti zbog inflacije."
          ],
          [
           "## Ključne poruke"
          ],
          [
           "IZVOR: “Investiranje kao dugoročno isplativa alternativna metoda štednje”, Ivan Mavrek, FOI, 2023."
          ],
          [
           "Investicijski fondovi - edukativni sazetak"
          ],
          [
           "ostalim ulagateljima. Prikupljeni novac drustvo za upravljanje ulaze prema unaprijed odredjenoj"
          ],
          [
           "- Namijenjeni sirokom krugu ulagatelja."
          ],
          [
           "AIF fondovi (alternativni investicijski fondovi)"
          ],
          [
           "- Slabije regulirani, namijenjeni iskusnijim ulagateljima."
          ],
          [
           "- AIF fondovi su slabije regulirani, nude veci raspon ulaganja, ali su namijenjeni samo"
          ],
          [
           "profesionalnim i kvalificiranim ulagateljima."
          ],
          [
           "- Procitati KIID (kljucni podaci za ulagatelje) koji sazima glavne karakteristike fonda."
          ],
          [
           "Zastita ulagatelja"
          ],
          [
           "- Postoji mogucnost izvansudskog rjesavanja sporova, a ako to nije moguce, rjesavanje sporova"
          ],
          [
           "- Mjesoviti fondovi: kombinacija dionica i obveznica, umjeren rizik."
          ],
          [
           "- Zatvoreni: udjele ne mozes otkupiti izravno iz imovine fonda."
          ],
          [
           "Dodatne informacije"
          ],
          [
           "Prakticna financijska pismenost i osnove ulaganja"
          ],
          [
           "ispravnih financijskih odluka i financijsko blagostanje."
          ],
          [
           "2. Potrebe vs. Zelje"
          ],
          [
           "- Razlikovanje potreba i zelja kljucno je za mudro upravljanje novcem i donosenje financijskih"
          ],
          [
           "- Konzumerizam je drustveni stav prema kojem sreca ovisi o stalnom kupovanju i posjedovanju"
          ],
          [
           "racuna o ekoloskim i etickim aspektima potrosnje."
          ],
          [
           "- Koraci kod donosenja odluka o kupnji: prepoznaj potrebu, istrazi opcije, procijeni mogucnosti, kupi,"
          ],
          [
           "analiziraj iskustvo nakon kupnje."
          ],
          [
           "- Prati prihode i izdatke, odredi prioritete, izdvajaj dio za stednju i ulaganje."
          ],
          [
           "6. Stednja i ulaganje"
          ],
          [
           "kroz vrijeme (dionice, obveznice, fondovi, nekretnine, kripto)."
          ],
          [
           "- Vazno je imati cilj, informirati se o rizicima i mogucnostima, te diversificirati ulaganja."
          ],
          [
           "- Uvijek informiraj se o svim troskovima i rizicima prije ulaganja."
          ],
          [
           "- Informacije trazi na sluzbenim portalima (npr. Hanfa, HNB, Stedopis)."
          ]
         ],
         "hovertemplate": "x=%{x}<br>y=%{y}<br>text=%{customdata[0]}<extra></extra>",
         "legendgroup": "",
         "marker": {
          "color": "#636efa",
          "symbol": "circle"
         },
         "mode": "markers",
         "name": "",
         "showlegend": false,
         "type": "scattergl",
         "x": {
          "bdata": "JGwDQzPZrMJ8NTPDd8vFQuSp/cIgL6lB9EwPws84AMNB3tPCUHLfwKM7aEKKK4zB0zZRwdM6REJ0/R7Dg2AWw/1xLsOYoAzDae/uwoVa3MI31e/Ct4ITw0BbBsPiPIrCtmGawhbqIcIDJZBC9gXZQF1KnMDYUIXBAnPQwXIhykLo+lbCCQoaQv7S70EKpYZCpcOqwfgFLsJXLcbBD2OsQOxQLsIBY+pBdywhQwei+kI9usLBgq4HQzWRhz8g6aFCa2HBQr1HIELyvrjC2PyiwkwMEEJT/y/BbDwfQytXD0Obzd1CqO/9Qu1D6UJLEaxCwNW4whz0B0M2Fq/CPAWYwtVug8JkUFbC4C+QwkTUE8KvpkzC/02EP3TX6kFAiFPCtl+uwqfvrkKfz6ZCWAppQmWh8UFTRpFBkO8vQnk7osLrpRTCUTxTwtrlL0Mfy5LCGPqxQgKX6kKbnZVCtfDIQiRsA0NnXaHCyxwvw3fLxULkqf3CtPxWQfRMD8LIogbDQd7TwlBy38DbZn9Ccf62wdM2UcHs1T5CdP0ew5GSDsP9cS7D0tgSw+Ew4sL8+fXCN9XvwreCE8Oc0gbD4jyKwrZhmsIW6iHCAyWQQqc0W0FdSpzAiWCWwQJz0MFyIcpC6PpWwirLMUL+0u9BCqWGQqXDqsFXyUfCVy3GwQ9jrEDsUC7CAWPqQXcsIUMHovpCPbrCwYKuB0M1kYc/CvCdQmthwUK9RyBC8r64wtj8osJMDBBCU/8vwWw8H0MrVw9Df97SQqjv/ULtQ+lCSxGsQnJ+s8Ic9AdDapa4wjwFmMJ7bYLCZFBWwqvhn8KKygLCr6ZMwv9NhD9TBxJC2q9twrZfrsK7L6tCn8+mQlOZgELtmhBCU0aRQZDvL0J5O6LCVDAQwlE8U8La5S9DH8uSwt5WnkKAr85Cm52VQrXwyEIkbANDOryrwsscL8N3y8VC5Kn9wiAvqUH0TA/CyKIGw0He08JQct/AQuxVQod0usHTNlHBJShVQnT9HsNGGhPD/XEuw9LYEsMw7vbCZjzhwjfV78K3ghPDQFsGw+I8isK2YZrCFuohwgMlkEL2BdlAXUqcwIlglsECc9DBciHKQuj6VsIqyzFC/tLvQQqlhkKlw6rB+AUuwlctxsEPY6xA7FAuwgFj6kF3LCFD3s0AQz26wsGCrgdDNZGHPy1Cq0L0ILtCvUcgQvK+uMLY/KLCTAwQQlP/L8FsPB9DK1cPQ3/e0kKo7/1C7UPpQksRrELHB73CJEcCQzYWr8I8BZjCFXpxwrgfcsLgL5DCu68rwq+mTML/TYQ/dNfqQa4eXMK2X67Cp++uQp/PpkJYCmlCZaHxQVNGkUGQ7y9CeTuiwuulFMKv42TC2uUvQx/LksLZWapCg9HbQpudlUL7IdFCJGwDQ35DmMLLHC/Dd8vFQuSp/cIgL6lB9EwPws84AMNB3tPCUHLfwDREVkKHdLrB0zZRwbeiQkJ0/R7Dg2AWw/1xLsN0LBjDpbj4wkvf6MKG2P/CGwQTw5zSBsPoQYLCtmGawhbqIcIDJZBCpzRbQfyIQsGoF87BAnPQwXIhykLo+lbCKssxQv7S70EKpYZCpcOqwVG6TMLuCZHBD2OsQOxQLsIBY+pBdywhQ97NAEM9usLBgq4HQzWRhz8g6aFChzPEQk7zCELyvrjC2PyiwkwMEEJT/y/BbDwfQytXD0N7BtNCqO/9Qri990JLEaxCmGrIwoOyCUM8ssLCPAWYwkoXYsJkUFbCf8Oawm1AK8KvpkzC/02EP1MHEkLar23Ctl+uwtrfoUKfz6ZCWAppQmWh8UFTRpFBkO8vQnk7osLrpRTCr+NkwtrlL0Mfy5LCh1OmQoPR20KbnZVCQk3UQiRsA0P/laLCyxwvw3fLxULkqf3CtPxWQfRMD8LPOADDQd7TwlBy38CXFG5CiiuMwdM2UcE3EzJCdP0ew4NgFsM+tDXDmKAMw+k26sJmneLCN9XvwhsEE8NheQzDZjR6wrZhmsIW6iHC8fGFQqc0W0H8iELB33S3wQJz0MFyIcpC6PpWwirLMUL+0u9BCqWGQqXDqsFXyUfC7gmRwQ9jrEDsUC7CAWPqQXcsIUMHovpCPbrCwYKuB0M1kYc/IOmhQuO7zkIuhx9CTgXFwtj8osJMDBBCU/8vwWw8H0MrVw9Df97SQnjvBUPtQ+lCSxGsQn2fr8KDsglD3Ge7wjwFmMIhGVjCZFBWwnfCncKKygLCr6ZMwv9NhD901+pB2q9twrZfrsK6bZhCn8+mQlgKaUJlofFBU0aRQZDvL0J5O6LC66UUwsLhbMLa5S9DH8uSwhj6sUKD0dtCm52VQgXx1EIkbANDVQOgwsscL8N3y8VC5Kn9wiAvqUH0TA/CzzgAw0He08JQct/AlxRuQnn8gcHTNlHB8jkuQnT9HsNGGhPD/XEuw9Y8EcPpNurCMcbxwobY/8IbBBPDhZwMw9rPhMK2YZrCFuohwvHxhUKnNFtB/IhCwagXzsECc9DBciHKQuj6VsIqyzFC/tLvQQqlhkKlw6rBUbpMwu4JkcFVSa+/7FAuwgFj6kF3LCFD3s0AQz26wsGCrgdDNZGHPwrwnUK1BNBCTvMIQk4FxcLY/KLCTAwQQlP/L8FsPB9DK1cPQ3/e0kJ47wVDuL33QksRrELA1bjCg7IJQ9xnu8I8BZjC6Ux2wixgVMLXP5bCn0kawq+mTML/TYQ/UwcSQpPUX8K2X67CeXyhQp/PpkJYCmlCZaHxQVNGkUGQ7y9CybOTwuulFMLcVEjC2uUvQx/LksLeVp5Cg9HbQpudlUJPBdxCJGwDQ1UDoMLLHC/D5eLVQuSp/cIgL6lB9EwPws84AMNB3tPCUHLfwJcUbkINcNPB0zZRwUGyWkJ0/R7DRhoTw/1xLsPWPBHD6Tbqwkvf6MKG2P/Ct4ITw5zSBsNy/o3CtmGawhbqIcLx8YVCpzRbQfyIQsFRD7DBAnPQwXIhykLo+lbCKssxQv7S70EKpYZCpcOqwVG6TMLuCZHBD2OsQOxQLsIBY+pBdywhQ4ir80I9usLBgq4HQzWRhz8K8J1C1+/FQgUYGkLyvrjC2PyiwkwMEEJT/y/BbDwfQytXD0Obzd1CiJECQ7i990JLEaxCxwe9woOyCUNqlrjCPAWYwpHBdsIkAGzCzXCSwtGgE8KvpkzC/02EP3TX6kEognjCtl+uwtrfoUKfz6ZCWAppQu2aEEJTRpFBkO8vQsmzk8LrpRTC3FRIwtrlL0Mfy5LC2VmqQoPR20KbnZVCBfHUQiRsA0Mz2azCE0syw3fLxULkqf3CIC+pQfRMD8LPOADDQd7TwlBy38Cj72pCvXemwdM2UcEgS2pCdP0ew4NgFsM+tDXD1jwRwzDu9sLONO7Chtj/whsEE8NheQzD/R2WwrZhmsIW6iHCAyWQQqc0W0FdSpzA33S3wQJz0MFyIcpC6PpWwirLMUL+0u9BCqWGQqXDqsH4BS7CVy3GwQ9jrEDsUC7CAWPqQXcsIUMHovpCPbrCwYKuB0M1kYc/IOmhQuO7zkI4TgdC8r64wtj8osJMDBBCU/8vwWw8H0MrVw9Df97SQqjv/ULtQ+lCSxGsQo+nxMJtFAJDapa4wjwFmMKoAWXCZFBWwplYpcLRoBPCr6ZMwv9NhD901+pBk9RfwrZfrsLa36FCn8+mQlgKaUJlofFBU0aRQZDvL0LJs5PC66UUwq/jZMLa5S9DH8uSwodTpkKD0dtC1nWSQjmOyULL1AtDY26ZQtCJvcKHn+TCw/Y3w3fLxUJLFwbDCfq6QSAvqUHl2/PBuxLqwRe8/sKw1cTCAV//QWTdckGBQhnAYcoYQWEnjUJ39bFCyomAQhLXDcJnTghDuZeewHttpMHg01hCmsslw0YaE8Nx4jPDDYczwyc388LSFhnDeMHpwndE68LCgu3CN9XvwhsEE8OXphTDcHjBwqgbGsJHFq7CFuohwtvvfkLuAddBiatcQRfE88BsIfPAvysCwgzuwkI88LPBFkTgQh9dvkIDXivCPqxvwgoHEEKTQTlChZ+2QR0QjkJXomHBV8lHwrmVv8FvUbLA750FQgM1PMAEb35B7FAuwgFj6kH09xdDThknQ7uzRkJZCx5BmScJQz26wsGCrgdDf+lIQYFrHcFTaDFC/tWEQmCmZUIfvThCI9XNQjRPYULyerxB+uZLQnYynkIs98vCvY7zwsRqh0Ln1LTCGTUuQkFUjkLpV7jBTVLKQoHlbkIjWR5DG8UrQ/OwmkI8MhhDsm7hQqcBrEKbwwtDhZsdQi0H9UJbigtDAaObQmBus0IfEKDCqLHAwsmercKDsglD/nzGwrtPxcIZOI3AhHaJwk33scJE29tCJK5UwhqRzsL+RmTCPz8GQ9kRzcIygazCTfmLQZBhisAiJeTBVrC4QK+mTMKJ3cu/2UjEQXNpBEJfSjzCDd6PwvnPuMK835bCFY+4Qm78JkIlKbxClLu7QlB7YkJtgUpC7LwwQvdR9EFsMpdBkO8vQsmzk8KZf9/BqbRRwj0aWsKLCSfCWBolQxsYicJ6nmlC2wmdQqQtx0JIeORCD7SKQR5TqkIbBqRCO4blQsvUC0NjbplC0Im9woef5MLD9jfDd8vFQksXBsMJ+rpBIC+pQeXb88G7EurBzzgAw7DVxMIBX/9BZN1yQYFCGcBhyhhBYSeNQnf1sULKiYBCQkIHwmdOCEO5l57Ae22kwbImbEKayyXDjt8aw3HiM8MNhzPDJzfzwtIWGcOluPjCd0TrwsKC7cKG2P/CfBwaw5emFMPn3MbCqBsawh/vpcIW6iHC2+9+QtrZ3EFvMxNBF8TzwGwh88C/KwLCDO7CQjzws8EWROBCH12+QgNeK8I+rG/CCgcQQpNBOUKtvrFBHRCOQleiYcFXyUfCuZW/wW9RssA9P/NB8arYP2bfiUHsUC7CAWPqQfT3F0NOGSdDu7NGQlkLHkFFngZDPbrCwYKuB0N/6UhBgWsdwVNoMUL+1YRCYKZlQh+9OEIj1c1Cc4FeQvJ6vEH65ktCdjKeQiz3y8K9jvPCxGqHQufUtMIZNS5CQVSOQulXuMFNUspCgeVuQiNZHkMbxStDo6maQjwyGEOybuFCpwGsQpvDC0O0PxpCLQf1QluKC0MBo5tCYG6zQh8QoMLWV8nCyZ6twiRHAkOvE8jCu0/Fwhk4jcCEdonC+t61wpdC00IKKkjCGpHOwv5GZMJ5gwZD2RHNwtTttcJN+YtBkGGKwCIl5MFWsLhAr6ZMwondy7+Rc9tBc2kEQoLeNsIN3o/C+c+4wrzflsIQiMJCKCkxQiUpvEKUu7tCUHtiQm2BSkLsvDBCTU3cQWwyl0GQ7y9CybOTwpl/38GptFHCPRpawosJJ8KB+iRDGxiJwnqeaUIfQZVCpC3HQsyw10IPtIpBHlOqQnCAqUI7huVCy9QLQ2NumULQib3Ch5/kwsP2N8N3y8VCSxcGwwn6ukEgL6lB5dvzwbsS6sHPOADDg3/OwgFf/0Fk3XJBgUIZwGHKGEFhJ41Cd/WxQsqJgEJCQgfCZ04IQ7mXnsB7baTBiLVIQprLJcODYBbDceIzww2HM8MfPO/C0hYZw+k26sJ3ROvCwoLtwobY/8IbBBPDl6YUw+fcxsKoGxrCn5CmwhbqIcLb735C2tncQYmrXEEXxPPAbCHzwL8rAsIM7sJCPPCzwRZE4EIfXb5CA14rwj6sb8IKBxBCk0E5Qq2+sUEdEI5CV6JhwXQ3NMK5lb/Bb1GywD0/80EDNTzA7s9KQexQLsIBY+pB9PcXQ04ZJ0O7s0ZCWQseQZknCUM9usLBgq4HQ3/pSEGBax3BU2gxQv7VhEJgpmVCH704QiPVzUKt3FBC8nq8QfrmS0J2Mp5CLPfLwr2O88LEaodC59S0whk1LkJBVI5C6Ve4wU1SykKB5W5CI1keQ97nKEPzsJpCPDIYQxqJ6EKnAaxCm8MLQ4WbHUItB/VCW4oLQwGjm0JgbrNCHxCgwqixwMJ3TKTCg7IJQ/58xsK7T8XCGTiNwOusksJN97HCl0LTQgoqSMIakc7C/kZkwuZ9AkPZEc3CY+Wxwk35i0GQYYrAIiXkwVawuEB5pzDCid3Lv5Fz20FzaQRCX0o8wg3ej8L5z7jCvN+WwnCRvUI5ER9CJSm8QpS7u0JQe2JCbYFKQuy8MEL3UfRBbDKXQZDvL0J5O6LCmX/fwam0UcI9GlrCiwknwoH6JEMbGInCep5pQh9BlUKkLcdCSHjkQvZqVEEeU6pCxOasQjuG5UI=",
          "dtype": "f4"
         },
         "xaxis": "x",
         "y": {
          "bdata": "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",
          "dtype": "f4"
         },
         "yaxis": "y"
        }
       ],
       "layout": {
        "legend": {
         "tracegroupgap": 0
        },
        "template": {
         "data": {
          "bar": [
           {
            "error_x": {
             "color": "#2a3f5f"
            },
            "error_y": {
             "color": "#2a3f5f"
            },
            "marker": {
             "line": {
              "color": "#E5ECF6",
              "width": 0.5
             },
             "pattern": {
              "fillmode": "overlay",
              "size": 10,
              "solidity": 0.2
             }
            },
            "type": "bar"
           }
          ],
          "barpolar": [
           {
            "marker": {
             "line": {
              "color": "#E5ECF6",
              "width": 0.5
             },
             "pattern": {
              "fillmode": "overlay",
              "size": 10,
              "solidity": 0.2
             }
            },
            "type": "barpolar"
           }
          ],
          "carpet": [
           {
            "aaxis": {
             "endlinecolor": "#2a3f5f",
             "gridcolor": "white",
             "linecolor": "white",
             "minorgridcolor": "white",
             "startlinecolor": "#2a3f5f"
            },
            "baxis": {
             "endlinecolor": "#2a3f5f",
             "gridcolor": "white",
             "linecolor": "white",
             "minorgridcolor": "white",
             "startlinecolor": "#2a3f5f"
            },
            "type": "carpet"
           }
          ],
          "choropleth": [
           {
            "colorbar": {
             "outlinewidth": 0,
             "ticks": ""
            },
            "type": "choropleth"
           }
          ],
          "contour": [
           {
            "colorbar": {
             "outlinewidth": 0,
             "ticks": ""
            },
            "colorscale": [
             [
              0,
              "#0d0887"
             ],
             [
              0.1111111111111111,
              "#46039f"
             ],
             [
              0.2222222222222222,
              "#7201a8"
             ],
             [
              0.3333333333333333,
              "#9c179e"
             ],
             [
              0.4444444444444444,
              "#bd3786"
             ],
             [
              0.5555555555555556,
              "#d8576b"
             ],
             [
              0.6666666666666666,
              "#ed7953"
             ],
             [
              0.7777777777777778,
              "#fb9f3a"
             ],
             [
              0.8888888888888888,
              "#fdca26"
             ],
             [
              1,
              "#f0f921"
             ]
            ],
            "type": "contour"
           }
          ],
          "contourcarpet": [
           {
            "colorbar": {
             "outlinewidth": 0,
             "ticks": ""
            },
            "type": "contourcarpet"
           }
          ],
          "heatmap": [
           {
            "colorbar": {
             "outlinewidth": 0,
             "ticks": ""
            },
            "colorscale": [
             [
              0,
              "#0d0887"
             ],
             [
              0.1111111111111111,
              "#46039f"
             ],
             [
              0.2222222222222222,
              "#7201a8"
             ],
             [
              0.3333333333333333,
              "#9c179e"
             ],
             [
              0.4444444444444444,
              "#bd3786"
             ],
             [
              0.5555555555555556,
              "#d8576b"
             ],
             [
              0.6666666666666666,
              "#ed7953"
             ],
             [
              0.7777777777777778,
              "#fb9f3a"
             ],
             [
              0.8888888888888888,
              "#fdca26"
             ],
             [
              1,
              "#f0f921"
             ]
            ],
            "type": "heatmap"
           }
          ],
          "histogram": [
           {
            "marker": {
             "pattern": {
              "fillmode": "overlay",
              "size": 10,
              "solidity": 0.2
             }
            },
            "type": "histogram"
           }
          ],
          "histogram2d": [
           {
            "colorbar": {
             "outlinewidth": 0,
             "ticks": ""
            },
            "colorscale": [
             [
              0,
              "#0d0887"
             ],
             [
              0.1111111111111111,
              "#46039f"
             ],
             [
              0.2222222222222222,
              "#7201a8"
             ],
             [
              0.3333333333333333,
              "#9c179e"
             ],
             [
              0.4444444444444444,
              "#bd3786"
             ],
             [
              0.5555555555555556,
              "#d8576b"
             ],
             [
              0.6666666666666666,
              "#ed7953"
             ],
             [
              0.7777777777777778,
              "#fb9f3a"
             ],
             [
              0.8888888888888888,
              "#fdca26"
             ],
             [
              1,
              "#f0f921"
             ]
            ],
            "type": "histogram2d"
           }
          ],
          "histogram2dcontour": [
           {
            "colorbar": {
             "outlinewidth": 0,
             "ticks": ""
            },
            "colorscale": [
             [
              0,
              "#0d0887"
             ],
             [
              0.1111111111111111,
              "#46039f"
             ],
             [
              0.2222222222222222,
              "#7201a8"
             ],
             [
              0.3333333333333333,
              "#9c179e"
             ],
             [
              0.4444444444444444,
              "#bd3786"
             ],
             [
              0.5555555555555556,
              "#d8576b"
             ],
             [
              0.6666666666666666,
              "#ed7953"
             ],
             [
              0.7777777777777778,
              "#fb9f3a"
             ],
             [
              0.8888888888888888,
              "#fdca26"
             ],
             [
              1,
              "#f0f921"
             ]
            ],
            "type": "histogram2dcontour"
           }
          ],
          "mesh3d": [
           {
            "colorbar": {
             "outlinewidth": 0,
             "ticks": ""
            },
            "type": "mesh3d"
           }
          ],
          "parcoords": [
           {
            "line": {
             "colorbar": {
              "outlinewidth": 0,
              "ticks": ""
             }
            },
            "type": "parcoords"
           }
          ],
          "pie": [
           {
            "automargin": true,
            "type": "pie"
           }
          ],
          "scatter": [
           {
            "fillpattern": {
             "fillmode": "overlay",
             "size": 10,
             "solidity": 0.2
            },
            "type": "scatter"
           }
          ],
          "scatter3d": [
           {
            "line": {
             "colorbar": {
              "outlinewidth": 0,
              "ticks": ""
             }
            },
            "marker": {
             "colorbar": {
              "outlinewidth": 0,
              "ticks": ""
             }
            },
            "type": "scatter3d"
           }
          ],
          "scattercarpet": [
           {
            "marker": {
             "colorbar": {
              "outlinewidth": 0,
              "ticks": ""
             }
            },
            "type": "scattercarpet"
           }
          ],
          "scattergeo": [
           {
            "marker": {
             "colorbar": {
              "outlinewidth": 0,
              "ticks": ""
             }
            },
            "type": "scattergeo"
           }
          ],
          "scattergl": [
           {
            "marker": {
             "colorbar": {
              "outlinewidth": 0,
              "ticks": ""
             }
            },
            "type": "scattergl"
           }
          ],
          "scattermap": [
           {
            "marker": {
             "colorbar": {
              "outlinewidth": 0,
              "ticks": ""
             }
            },
            "type": "scattermap"
           }
          ],
          "scattermapbox": [
           {
            "marker": {
             "colorbar": {
              "outlinewidth": 0,
              "ticks": ""
             }
            },
            "type": "scattermapbox"
           }
          ],
          "scatterpolar": [
           {
            "marker": {
             "colorbar": {
              "outlinewidth": 0,
              "ticks": ""
             }
            },
            "type": "scatterpolar"
           }
          ],
          "scatterpolargl": [
           {
            "marker": {
             "colorbar": {
              "outlinewidth": 0,
              "ticks": ""
             }
            },
            "type": "scatterpolargl"
           }
          ],
          "scatterternary": [
           {
            "marker": {
             "colorbar": {
              "outlinewidth": 0,
              "ticks": ""
             }
            },
            "type": "scatterternary"
           }
          ],
          "surface": [
           {
            "colorbar": {
             "outlinewidth": 0,
             "ticks": ""
            },
            "colorscale": [
             [
              0,
              "#0d0887"
             ],
             [
              0.1111111111111111,
              "#46039f"
             ],
             [
              0.2222222222222222,
              "#7201a8"
             ],
             [
              0.3333333333333333,
              "#9c179e"
             ],
             [
              0.4444444444444444,
              "#bd3786"
             ],
             [
              0.5555555555555556,
              "#d8576b"
             ],
             [
              0.6666666666666666,
              "#ed7953"
             ],
             [
              0.7777777777777778,
              "#fb9f3a"
             ],
             [
              0.8888888888888888,
              "#fdca26"
             ],
             [
              1,
              "#f0f921"
             ]
            ],
            "type": "surface"
           }
          ],
          "table": [
           {
            "cells": {
             "fill": {
              "color": "#EBF0F8"
             },
             "line": {
              "color": "white"
             }
            },
            "header": {
             "fill": {
              "color": "#C8D4E3"
             },
             "line": {
              "color": "white"
             }
            },
            "type": "table"
           }
          ]
         },
         "layout": {
          "annotationdefaults": {
           "arrowcolor": "#2a3f5f",
           "arrowhead": 0,
           "arrowwidth": 1
          },
          "autotypenumbers": "strict",
          "coloraxis": {
           "colorbar": {
            "outlinewidth": 0,
            "ticks": ""
           }
          },
          "colorscale": {
           "diverging": [
            [
             0,
             "#8e0152"
            ],
            [
             0.1,
             "#c51b7d"
            ],
            [
             0.2,
             "#de77ae"
            ],
            [
             0.3,
             "#f1b6da"
            ],
            [
             0.4,
             "#fde0ef"
            ],
            [
             0.5,
             "#f7f7f7"
            ],
            [
             0.6,
             "#e6f5d0"
            ],
            [
             0.7,
             "#b8e186"
            ],
            [
             0.8,
             "#7fbc41"
            ],
            [
             0.9,
             "#4d9221"
            ],
            [
             1,
             "#276419"
            ]
           ],
           "sequential": [
            [
             0,
             "#0d0887"
            ],
            [
             0.1111111111111111,
             "#46039f"
            ],
            [
             0.2222222222222222,
             "#7201a8"
            ],
            [
             0.3333333333333333,
             "#9c179e"
            ],
            [
             0.4444444444444444,
             "#bd3786"
            ],
            [
             0.5555555555555556,
             "#d8576b"
            ],
            [
             0.6666666666666666,
             "#ed7953"
            ],
            [
             0.7777777777777778,
             "#fb9f3a"
            ],
            [
             0.8888888888888888,
             "#fdca26"
            ],
            [
             1,
             "#f0f921"
            ]
           ],
           "sequentialminus": [
            [
             0,
             "#0d0887"
            ],
            [
             0.1111111111111111,
             "#46039f"
            ],
            [
             0.2222222222222222,
             "#7201a8"
            ],
            [
             0.3333333333333333,
             "#9c179e"
            ],
            [
             0.4444444444444444,
             "#bd3786"
            ],
            [
             0.5555555555555556,
             "#d8576b"
            ],
            [
             0.6666666666666666,
             "#ed7953"
            ],
            [
             0.7777777777777778,
             "#fb9f3a"
            ],
            [
             0.8888888888888888,
             "#fdca26"
            ],
            [
             1,
             "#f0f921"
            ]
           ]
          },
          "colorway": [
           "#636efa",
           "#EF553B",
           "#00cc96",
           "#ab63fa",
           "#FFA15A",
           "#19d3f3",
           "#FF6692",
           "#B6E880",
           "#FF97FF",
           "#FECB52"
          ],
          "font": {
           "color": "#2a3f5f"
          },
          "geo": {
           "bgcolor": "white",
           "lakecolor": "white",
           "landcolor": "#E5ECF6",
           "showlakes": true,
           "showland": true,
           "subunitcolor": "white"
          },
          "hoverlabel": {
           "align": "left"
          },
          "hovermode": "closest",
          "mapbox": {
           "style": "light"
          },
          "paper_bgcolor": "white",
          "plot_bgcolor": "#E5ECF6",
          "polar": {
           "angularaxis": {
            "gridcolor": "white",
            "linecolor": "white",
            "ticks": ""
           },
           "bgcolor": "#E5ECF6",
           "radialaxis": {
            "gridcolor": "white",
            "linecolor": "white",
            "ticks": ""
           }
          },
          "scene": {
           "xaxis": {
            "backgroundcolor": "#E5ECF6",
            "gridcolor": "white",
            "gridwidth": 2,
            "linecolor": "white",
            "showbackground": true,
            "ticks": "",
            "zerolinecolor": "white"
           },
           "yaxis": {
            "backgroundcolor": "#E5ECF6",
            "gridcolor": "white",
            "gridwidth": 2,
            "linecolor": "white",
            "showbackground": true,
            "ticks": "",
            "zerolinecolor": "white"
           },
           "zaxis": {
            "backgroundcolor": "#E5ECF6",
            "gridcolor": "white",
            "gridwidth": 2,
            "linecolor": "white",
            "showbackground": true,
            "ticks": "",
            "zerolinecolor": "white"
           }
          },
          "shapedefaults": {
           "line": {
            "color": "#2a3f5f"
           }
          },
          "ternary": {
           "aaxis": {
            "gridcolor": "white",
            "linecolor": "white",
            "ticks": ""
           },
           "baxis": {
            "gridcolor": "white",
            "linecolor": "white",
            "ticks": ""
           },
           "bgcolor": "#E5ECF6",
           "caxis": {
            "gridcolor": "white",
            "linecolor": "white",
            "ticks": ""
           }
          },
          "title": {
           "x": 0.05
          },
          "xaxis": {
           "automargin": true,
           "gridcolor": "white",
           "linecolor": "white",
           "ticks": "",
           "title": {
            "standoff": 15
           },
           "zerolinecolor": "white",
           "zerolinewidth": 2
          },
          "yaxis": {
           "automargin": true,
           "gridcolor": "white",
           "linecolor": "white",
           "ticks": "",
           "title": {
            "standoff": 15
           },
           "zerolinecolor": "white",
           "zerolinewidth": 2
          }
         }
        },
        "title": {
         "text": "t-SNE embedding vizualizacija"
        },
        "xaxis": {
         "anchor": "y",
         "domain": [
          0,
          1
         ],
         "title": {
          "text": "x"
         }
        },
        "yaxis": {
         "anchor": "x",
         "domain": [
          0,
          1
         ],
         "title": {
          "text": "y"
         }
        }
       }
      }
     },
     "metadata": {},
     "output_type": "display_data"
    }
   ],
   "source": [
    "import plotly.express as px\n",
    "import pandas as pd\n",
    "\n",
    "df = pd.DataFrame({\n",
    "    \"x\": embeddings_2d[:,0],\n",
    "    \"y\": embeddings_2d[:,1],\n",
    "    \"text\": [t.split('\\n')[0] for t in all_docs]\n",
    "})\n",
    "\n",
    "fig = px.scatter(df, x=\"x\", y=\"y\", hover_data=[\"text\"], title=\"t-SNE embedding vizualizacija\")\n",
    "fig.show()\n"
   ]
  }
 ],
 "metadata": {
  "kernelspec": {
   "display_name": "venv",
   "language": "python",
   "name": "python3"
  },
  "language_info": {
   "codemirror_mode": {
    "name": "ipython",
    "version": 3
   },
   "file_extension": ".py",
   "mimetype": "text/x-python",
   "name": "python",
   "nbconvert_exporter": "python",
   "pygments_lexer": "ipython3",
   "version": "3.12.4"
  }
 },
 "nbformat": 4,
 "nbformat_minor": 5
}
